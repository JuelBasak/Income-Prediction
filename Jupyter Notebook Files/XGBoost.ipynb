{
 "cells": [
  {
   "cell_type": "markdown",
   "id": "1d71c5ea",
   "metadata": {},
   "source": [
    "# Importing Required Libraries"
   ]
  },
  {
   "cell_type": "code",
   "execution_count": 1,
   "id": "92dab3b5",
   "metadata": {},
   "outputs": [],
   "source": [
    "import numpy as np\n",
    "import pandas as pd\n",
    "import matplotlib.pyplot as plt\n",
    "import os\n",
    "from urllib.request import urlopen as uReq\n",
    "from bs4 import BeautifulSoup as bs\n",
    "import klib\n",
    "from sklearn.model_selection import train_test_split\n",
    "from sklearn.preprocessing import StandardScaler\n",
    "from sklearn.preprocessing import OneHotEncoder\n",
    "from sklearn.pipeline import Pipeline\n",
    "from sklearn.compose import ColumnTransformer\n",
    "from sklearn.preprocessing import LabelEncoder\n",
    "from xgboost import XGBClassifier\n",
    "from sklearn.metrics import classification_report\n",
    "from sklearn.metrics import confusion_matrix\n",
    "from sklearn.model_selection import cross_val_score\n",
    "from sklearn.model_selection import GridSearchCV\n",
    "from datetime import datetime\n",
    "import joblib"
   ]
  },
  {
   "cell_type": "markdown",
   "id": "931d3a9e",
   "metadata": {},
   "source": [
    "# Downloading, Saving and Reading the Dataset"
   ]
  },
  {
   "cell_type": "code",
   "execution_count": 2,
   "id": "3cce8a37",
   "metadata": {
    "scrolled": false
   },
   "outputs": [
    {
     "name": "stdout",
     "output_type": "stream",
     "text": [
      "| This data was extracted from the census bureau database found at\n",
      "| http://www.census.gov/ftp/pub/DES/www/welcome.html\n",
      "| Donor: Ronny Kohavi and Barry Becker,\n",
      "|        Data Mining and Visualization\n",
      "|        Silicon Graphics.\n",
      "|        e-mail: ronnyk@sgi.com for questions.\n",
      "| Split into train-test using MLC++ GenCVFiles (2/3, 1/3 random).\n",
      "| 48842 instances, mix of continuous and discrete    (train=32561, test=16281)\n",
      "| 45222 if instances with unknown values are removed (train=30162, test=15060)\n",
      "| Duplicate or conflicting instances : 6\n",
      "| Class probabilities for adult.all file\n",
      "| Probability for the label '&gt;50K'  : 23.93% / 24.78% (without unknowns)\n",
      "| Probability for the label '&lt;=50K' : 76.07% / 75.22% (without unknowns)\n",
      "|\n",
      "| Extraction was done by Barry Becker from the 1994 Census database.  A set of\n",
      "|   reasonably clean records was extracted using the following conditions:\n",
      "|   ((AAGE&gt;16) &amp;&amp; (AGI&gt;100) &amp;&amp; (AFNLWGT&gt;1)&amp;&amp; (HRSWK&gt;0))\n",
      "|\n",
      "| Prediction task is to determine whether a person makes over 50K\n",
      "| a year.\n",
      "|\n",
      "| First cited in:\n",
      "| @inproceedings{kohavi-nbtree,\n",
      "|    author={Ron Kohavi},\n",
      "|    title={Scaling Up the Accuracy of Naive-Bayes Classifiers: a\n",
      "|           Decision-Tree Hybrid},\n",
      "|    booktitle={Proceedings of the Second International Conference on\n",
      "|               Knowledge Discovery and Data Mining},\n",
      "|    year = 1996,\n",
      "|    pages={to appear}}\n",
      "|\n",
      "| Error Accuracy reported as follows, after removal of unknowns from\n",
      "|    train/test sets):\n",
      "|    C4.5       : 84.46+-0.30\n",
      "|    Naive-Bayes: 83.88+-0.30\n",
      "|    NBTree     : 85.90+-0.28\n",
      "|\n",
      "|\n",
      "| Following algorithms were later run with the following error rates,\n",
      "|    all after removal of unknowns and using the original train/test split.\n",
      "|    All these numbers are straight runs using MLC++ with default values.\n",
      "|\n",
      "|    Algorithm               Error\n",
      "| -- ----------------        -----\n",
      "| 1  C4.5                    15.54\n",
      "| 2  C4.5-auto               14.46\n",
      "| 3  C4.5 rules              14.94\n",
      "| 4  Voted ID3 (0.6)         15.64\n",
      "| 5  Voted ID3 (0.8)         16.47\n",
      "| 6  T2                      16.84\n",
      "| 7  1R                      19.54\n",
      "| 8  NBTree                  14.10\n",
      "| 9  CN2                     16.00\n",
      "| 10 HOODG                   14.82\n",
      "| 11 FSS Naive Bayes         14.05\n",
      "| 12 IDTM (Decision table)   14.46\n",
      "| 13 Naive-Bayes             16.12\n",
      "| 14 Nearest-neighbor (1)    21.42\n",
      "| 15 Nearest-neighbor (3)    20.35\n",
      "| 16 OC1                     15.04\n",
      "| 17 Pebls                   Crashed.  Unknown why (bounds WERE increased)\n",
      "|\n",
      "| Conversion of original data as follows:\n",
      "| 1. Discretized agrossincome into two ranges with threshold 50,000.\n",
      "| 2. Convert U.S. to US to avoid periods.\n",
      "| 3. Convert Unknown to \"?\"\n",
      "| 4. Run MLC++ GenCVFiles to generate data,test.\n",
      "|\n",
      "| Description of fnlwgt (final weight)\n",
      "|\n",
      "| The weights on the CPS files are controlled to independent estimates of the\n",
      "| civilian noninstitutional population of the US.  These are prepared monthly\n",
      "| for us by Population Division here at the Census Bureau.  We use 3 sets of\n",
      "| controls.\n",
      "|  These are:\n",
      "|          1.  A single cell estimate of the population 16+ for each state.\n",
      "|          2.  Controls for Hispanic Origin by age and sex.\n",
      "|          3.  Controls by Race, age and sex.\n",
      "|\n",
      "| We use all three sets of controls in our weighting program and \"rake\" through\n",
      "| them 6 times so that by the end we come back to all the controls we used.\n",
      "|\n",
      "| The term estimate refers to population totals derived from CPS by creating\n",
      "| \"weighted tallies\" of any specified socio-economic characteristics of the\n",
      "| population.\n",
      "|\n",
      "| People with similar demographic characteristics should have\n",
      "| similar weights.  There is one important caveat to remember\n",
      "| about this statement.  That is that since the CPS sample is\n",
      "| actually a collection of 51 state samples, each with its own\n",
      "| probability of selection, the statement only applies within\n",
      "| state.\n",
      "\n",
      "\n",
      "&gt;50K, &lt;=50K.\n",
      "\n",
      "age: continuous.\n",
      "workclass: Private, Self-emp-not-inc, Self-emp-inc, Federal-gov, Local-gov, State-gov, Without-pay, Never-worked.\n",
      "fnlwgt: continuous.\n",
      "education: Bachelors, Some-college, 11th, HS-grad, Prof-school, Assoc-acdm, Assoc-voc, 9th, 7th-8th, 12th, Masters, 1st-4th, 10th, Doctorate, 5th-6th, Preschool.\n",
      "education-num: continuous.\n",
      "marital-status: Married-civ-spouse, Divorced, Never-married, Separated, Widowed, Married-spouse-absent, Married-AF-spouse.\n",
      "occupation: Tech-support, Craft-repair, Other-service, Sales, Exec-managerial, Prof-specialty, Handlers-cleaners, Machine-op-inspct, Adm-clerical, Farming-fishing, Transport-moving, Priv-house-serv, Protective-serv, Armed-Forces.\n",
      "relationship: Wife, Own-child, Husband, Not-in-family, Other-relative, Unmarried.\n",
      "race: White, Asian-Pac-Islander, Amer-Indian-Eskimo, Other, Black.\n",
      "sex: Female, Male.\n",
      "capital-gain: continuous.\n",
      "capital-loss: continuous.\n",
      "hours-per-week: continuous.\n",
      "native-country: United-States, Cambodia, England, Puerto-Rico, Canada, Germany, Outlying-US(Guam-USVI-etc), India, Japan, Greece, South, China, Cuba, Iran, Honduras, Philippines, Italy, Poland, Jamaica, Vietnam, Mexico, Portugal, Ireland, France, Dominican-Republic, Laos, Ecuador, Taiwan, Haiti, Columbia, Hungary, Guatemala, Nicaragua, Scotland, Thailand, Yugoslavia, El-Salvador, Trinadad&amp;Tobago, Peru, Hong, Holand-Netherlands.\n",
      "\n"
     ]
    }
   ],
   "source": [
    "# Downloading the Dataset\n",
    "\n",
    "train_set = pd.read_csv('http://archive.ics.uci.edu/ml/machine-learning-databases/adult/adult.data', header = None)\n",
    "test_set = pd.read_csv('http://archive.ics.uci.edu/ml/machine-learning-databases/adult/adult.test' , skiprows = 1, header = None)\n",
    "\n",
    "if not os.path.isdir('Dataset'):\n",
    "    os.mkdir('Dataset')\n",
    "    \n",
    "# Downloading and Printing the Description\n",
    "    \n",
    "description = uReq('http://archive.ics.uci.edu/ml/machine-learning-databases/adult/adult.names')\n",
    "print(bs(description.read(), 'html.parser'))\n",
    "description.close()"
   ]
  },
  {
   "cell_type": "code",
   "execution_count": 3,
   "id": "4ed0947e",
   "metadata": {},
   "outputs": [
    {
     "data": {
      "text/html": [
       "<div>\n",
       "<style scoped>\n",
       "    .dataframe tbody tr th:only-of-type {\n",
       "        vertical-align: middle;\n",
       "    }\n",
       "\n",
       "    .dataframe tbody tr th {\n",
       "        vertical-align: top;\n",
       "    }\n",
       "\n",
       "    .dataframe thead th {\n",
       "        text-align: right;\n",
       "    }\n",
       "</style>\n",
       "<table border=\"1\" class=\"dataframe\">\n",
       "  <thead>\n",
       "    <tr style=\"text-align: right;\">\n",
       "      <th></th>\n",
       "      <th>0</th>\n",
       "      <th>1</th>\n",
       "      <th>2</th>\n",
       "      <th>3</th>\n",
       "      <th>4</th>\n",
       "      <th>5</th>\n",
       "      <th>6</th>\n",
       "      <th>7</th>\n",
       "      <th>8</th>\n",
       "      <th>9</th>\n",
       "      <th>10</th>\n",
       "      <th>11</th>\n",
       "      <th>12</th>\n",
       "      <th>13</th>\n",
       "      <th>14</th>\n",
       "    </tr>\n",
       "  </thead>\n",
       "  <tbody>\n",
       "    <tr>\n",
       "      <th>0</th>\n",
       "      <td>39</td>\n",
       "      <td>State-gov</td>\n",
       "      <td>77516</td>\n",
       "      <td>Bachelors</td>\n",
       "      <td>13</td>\n",
       "      <td>Never-married</td>\n",
       "      <td>Adm-clerical</td>\n",
       "      <td>Not-in-family</td>\n",
       "      <td>White</td>\n",
       "      <td>Male</td>\n",
       "      <td>2174</td>\n",
       "      <td>0</td>\n",
       "      <td>40</td>\n",
       "      <td>United-States</td>\n",
       "      <td>&lt;=50K</td>\n",
       "    </tr>\n",
       "    <tr>\n",
       "      <th>1</th>\n",
       "      <td>50</td>\n",
       "      <td>Self-emp-not-inc</td>\n",
       "      <td>83311</td>\n",
       "      <td>Bachelors</td>\n",
       "      <td>13</td>\n",
       "      <td>Married-civ-spouse</td>\n",
       "      <td>Exec-managerial</td>\n",
       "      <td>Husband</td>\n",
       "      <td>White</td>\n",
       "      <td>Male</td>\n",
       "      <td>0</td>\n",
       "      <td>0</td>\n",
       "      <td>13</td>\n",
       "      <td>United-States</td>\n",
       "      <td>&lt;=50K</td>\n",
       "    </tr>\n",
       "    <tr>\n",
       "      <th>2</th>\n",
       "      <td>38</td>\n",
       "      <td>Private</td>\n",
       "      <td>215646</td>\n",
       "      <td>HS-grad</td>\n",
       "      <td>9</td>\n",
       "      <td>Divorced</td>\n",
       "      <td>Handlers-cleaners</td>\n",
       "      <td>Not-in-family</td>\n",
       "      <td>White</td>\n",
       "      <td>Male</td>\n",
       "      <td>0</td>\n",
       "      <td>0</td>\n",
       "      <td>40</td>\n",
       "      <td>United-States</td>\n",
       "      <td>&lt;=50K</td>\n",
       "    </tr>\n",
       "    <tr>\n",
       "      <th>3</th>\n",
       "      <td>53</td>\n",
       "      <td>Private</td>\n",
       "      <td>234721</td>\n",
       "      <td>11th</td>\n",
       "      <td>7</td>\n",
       "      <td>Married-civ-spouse</td>\n",
       "      <td>Handlers-cleaners</td>\n",
       "      <td>Husband</td>\n",
       "      <td>Black</td>\n",
       "      <td>Male</td>\n",
       "      <td>0</td>\n",
       "      <td>0</td>\n",
       "      <td>40</td>\n",
       "      <td>United-States</td>\n",
       "      <td>&lt;=50K</td>\n",
       "    </tr>\n",
       "    <tr>\n",
       "      <th>4</th>\n",
       "      <td>28</td>\n",
       "      <td>Private</td>\n",
       "      <td>338409</td>\n",
       "      <td>Bachelors</td>\n",
       "      <td>13</td>\n",
       "      <td>Married-civ-spouse</td>\n",
       "      <td>Prof-specialty</td>\n",
       "      <td>Wife</td>\n",
       "      <td>Black</td>\n",
       "      <td>Female</td>\n",
       "      <td>0</td>\n",
       "      <td>0</td>\n",
       "      <td>40</td>\n",
       "      <td>Cuba</td>\n",
       "      <td>&lt;=50K</td>\n",
       "    </tr>\n",
       "    <tr>\n",
       "      <th>...</th>\n",
       "      <td>...</td>\n",
       "      <td>...</td>\n",
       "      <td>...</td>\n",
       "      <td>...</td>\n",
       "      <td>...</td>\n",
       "      <td>...</td>\n",
       "      <td>...</td>\n",
       "      <td>...</td>\n",
       "      <td>...</td>\n",
       "      <td>...</td>\n",
       "      <td>...</td>\n",
       "      <td>...</td>\n",
       "      <td>...</td>\n",
       "      <td>...</td>\n",
       "      <td>...</td>\n",
       "    </tr>\n",
       "    <tr>\n",
       "      <th>32556</th>\n",
       "      <td>27</td>\n",
       "      <td>Private</td>\n",
       "      <td>257302</td>\n",
       "      <td>Assoc-acdm</td>\n",
       "      <td>12</td>\n",
       "      <td>Married-civ-spouse</td>\n",
       "      <td>Tech-support</td>\n",
       "      <td>Wife</td>\n",
       "      <td>White</td>\n",
       "      <td>Female</td>\n",
       "      <td>0</td>\n",
       "      <td>0</td>\n",
       "      <td>38</td>\n",
       "      <td>United-States</td>\n",
       "      <td>&lt;=50K</td>\n",
       "    </tr>\n",
       "    <tr>\n",
       "      <th>32557</th>\n",
       "      <td>40</td>\n",
       "      <td>Private</td>\n",
       "      <td>154374</td>\n",
       "      <td>HS-grad</td>\n",
       "      <td>9</td>\n",
       "      <td>Married-civ-spouse</td>\n",
       "      <td>Machine-op-inspct</td>\n",
       "      <td>Husband</td>\n",
       "      <td>White</td>\n",
       "      <td>Male</td>\n",
       "      <td>0</td>\n",
       "      <td>0</td>\n",
       "      <td>40</td>\n",
       "      <td>United-States</td>\n",
       "      <td>&gt;50K</td>\n",
       "    </tr>\n",
       "    <tr>\n",
       "      <th>32558</th>\n",
       "      <td>58</td>\n",
       "      <td>Private</td>\n",
       "      <td>151910</td>\n",
       "      <td>HS-grad</td>\n",
       "      <td>9</td>\n",
       "      <td>Widowed</td>\n",
       "      <td>Adm-clerical</td>\n",
       "      <td>Unmarried</td>\n",
       "      <td>White</td>\n",
       "      <td>Female</td>\n",
       "      <td>0</td>\n",
       "      <td>0</td>\n",
       "      <td>40</td>\n",
       "      <td>United-States</td>\n",
       "      <td>&lt;=50K</td>\n",
       "    </tr>\n",
       "    <tr>\n",
       "      <th>32559</th>\n",
       "      <td>22</td>\n",
       "      <td>Private</td>\n",
       "      <td>201490</td>\n",
       "      <td>HS-grad</td>\n",
       "      <td>9</td>\n",
       "      <td>Never-married</td>\n",
       "      <td>Adm-clerical</td>\n",
       "      <td>Own-child</td>\n",
       "      <td>White</td>\n",
       "      <td>Male</td>\n",
       "      <td>0</td>\n",
       "      <td>0</td>\n",
       "      <td>20</td>\n",
       "      <td>United-States</td>\n",
       "      <td>&lt;=50K</td>\n",
       "    </tr>\n",
       "    <tr>\n",
       "      <th>32560</th>\n",
       "      <td>52</td>\n",
       "      <td>Self-emp-inc</td>\n",
       "      <td>287927</td>\n",
       "      <td>HS-grad</td>\n",
       "      <td>9</td>\n",
       "      <td>Married-civ-spouse</td>\n",
       "      <td>Exec-managerial</td>\n",
       "      <td>Wife</td>\n",
       "      <td>White</td>\n",
       "      <td>Female</td>\n",
       "      <td>15024</td>\n",
       "      <td>0</td>\n",
       "      <td>40</td>\n",
       "      <td>United-States</td>\n",
       "      <td>&gt;50K</td>\n",
       "    </tr>\n",
       "  </tbody>\n",
       "</table>\n",
       "<p>32561 rows × 15 columns</p>\n",
       "</div>"
      ],
      "text/plain": [
       "       0                  1       2            3   4                    5   \\\n",
       "0      39          State-gov   77516    Bachelors  13        Never-married   \n",
       "1      50   Self-emp-not-inc   83311    Bachelors  13   Married-civ-spouse   \n",
       "2      38            Private  215646      HS-grad   9             Divorced   \n",
       "3      53            Private  234721         11th   7   Married-civ-spouse   \n",
       "4      28            Private  338409    Bachelors  13   Married-civ-spouse   \n",
       "...    ..                ...     ...          ...  ..                  ...   \n",
       "32556  27            Private  257302   Assoc-acdm  12   Married-civ-spouse   \n",
       "32557  40            Private  154374      HS-grad   9   Married-civ-spouse   \n",
       "32558  58            Private  151910      HS-grad   9              Widowed   \n",
       "32559  22            Private  201490      HS-grad   9        Never-married   \n",
       "32560  52       Self-emp-inc  287927      HS-grad   9   Married-civ-spouse   \n",
       "\n",
       "                       6               7       8        9      10  11  12  \\\n",
       "0            Adm-clerical   Not-in-family   White     Male   2174   0  40   \n",
       "1         Exec-managerial         Husband   White     Male      0   0  13   \n",
       "2       Handlers-cleaners   Not-in-family   White     Male      0   0  40   \n",
       "3       Handlers-cleaners         Husband   Black     Male      0   0  40   \n",
       "4          Prof-specialty            Wife   Black   Female      0   0  40   \n",
       "...                   ...             ...     ...      ...    ...  ..  ..   \n",
       "32556        Tech-support            Wife   White   Female      0   0  38   \n",
       "32557   Machine-op-inspct         Husband   White     Male      0   0  40   \n",
       "32558        Adm-clerical       Unmarried   White   Female      0   0  40   \n",
       "32559        Adm-clerical       Own-child   White     Male      0   0  20   \n",
       "32560     Exec-managerial            Wife   White   Female  15024   0  40   \n",
       "\n",
       "                   13      14  \n",
       "0       United-States   <=50K  \n",
       "1       United-States   <=50K  \n",
       "2       United-States   <=50K  \n",
       "3       United-States   <=50K  \n",
       "4                Cuba   <=50K  \n",
       "...               ...     ...  \n",
       "32556   United-States   <=50K  \n",
       "32557   United-States    >50K  \n",
       "32558   United-States   <=50K  \n",
       "32559   United-States   <=50K  \n",
       "32560   United-States    >50K  \n",
       "\n",
       "[32561 rows x 15 columns]"
      ]
     },
     "execution_count": 3,
     "metadata": {},
     "output_type": "execute_result"
    }
   ],
   "source": [
    "train_set"
   ]
  },
  {
   "cell_type": "code",
   "execution_count": 6,
   "id": "8691f3a4",
   "metadata": {},
   "outputs": [],
   "source": [
    "col_labels = ['age', 'workclass', 'fnlwgt', 'education', 'education_num', \\\n",
    "'marital_status', 'occupation','relationship', 'race', 'sex', 'capital_gain', \\\n",
    "'capital_loss', 'hours_per_week', 'native_country', 'wage_class'] \n",
    "\n",
    "\n",
    "# Setting the column names for the training and the test data\n",
    "\n",
    "train_set.columns = col_labels \n",
    "test_set.columns = col_labels\n",
    "\n",
    "\n",
    "# Saving the data as a csv file\n",
    "\n",
    "train_set.to_csv(os.path.join('Dataset', 'adult_data.csv'), index=False)\n",
    "test_set.to_csv(os.path.join('Dataset', 'adult_test.csv'), index=False)"
   ]
  },
  {
   "cell_type": "code",
   "execution_count": 8,
   "id": "be325d21",
   "metadata": {},
   "outputs": [
    {
     "data": {
      "text/html": [
       "<div>\n",
       "<style scoped>\n",
       "    .dataframe tbody tr th:only-of-type {\n",
       "        vertical-align: middle;\n",
       "    }\n",
       "\n",
       "    .dataframe tbody tr th {\n",
       "        vertical-align: top;\n",
       "    }\n",
       "\n",
       "    .dataframe thead th {\n",
       "        text-align: right;\n",
       "    }\n",
       "</style>\n",
       "<table border=\"1\" class=\"dataframe\">\n",
       "  <thead>\n",
       "    <tr style=\"text-align: right;\">\n",
       "      <th></th>\n",
       "      <th>age</th>\n",
       "      <th>workclass</th>\n",
       "      <th>fnlwgt</th>\n",
       "      <th>education</th>\n",
       "      <th>education_num</th>\n",
       "      <th>marital_status</th>\n",
       "      <th>occupation</th>\n",
       "      <th>relationship</th>\n",
       "      <th>race</th>\n",
       "      <th>sex</th>\n",
       "      <th>capital_gain</th>\n",
       "      <th>capital_loss</th>\n",
       "      <th>hours_per_week</th>\n",
       "      <th>native_country</th>\n",
       "      <th>wage_class</th>\n",
       "    </tr>\n",
       "  </thead>\n",
       "  <tbody>\n",
       "    <tr>\n",
       "      <th>0</th>\n",
       "      <td>39</td>\n",
       "      <td>State-gov</td>\n",
       "      <td>77516</td>\n",
       "      <td>Bachelors</td>\n",
       "      <td>13</td>\n",
       "      <td>Never-married</td>\n",
       "      <td>Adm-clerical</td>\n",
       "      <td>Not-in-family</td>\n",
       "      <td>White</td>\n",
       "      <td>Male</td>\n",
       "      <td>2174</td>\n",
       "      <td>0</td>\n",
       "      <td>40</td>\n",
       "      <td>United-States</td>\n",
       "      <td>&lt;=50K</td>\n",
       "    </tr>\n",
       "    <tr>\n",
       "      <th>1</th>\n",
       "      <td>50</td>\n",
       "      <td>Self-emp-not-inc</td>\n",
       "      <td>83311</td>\n",
       "      <td>Bachelors</td>\n",
       "      <td>13</td>\n",
       "      <td>Married-civ-spouse</td>\n",
       "      <td>Exec-managerial</td>\n",
       "      <td>Husband</td>\n",
       "      <td>White</td>\n",
       "      <td>Male</td>\n",
       "      <td>0</td>\n",
       "      <td>0</td>\n",
       "      <td>13</td>\n",
       "      <td>United-States</td>\n",
       "      <td>&lt;=50K</td>\n",
       "    </tr>\n",
       "    <tr>\n",
       "      <th>2</th>\n",
       "      <td>38</td>\n",
       "      <td>Private</td>\n",
       "      <td>215646</td>\n",
       "      <td>HS-grad</td>\n",
       "      <td>9</td>\n",
       "      <td>Divorced</td>\n",
       "      <td>Handlers-cleaners</td>\n",
       "      <td>Not-in-family</td>\n",
       "      <td>White</td>\n",
       "      <td>Male</td>\n",
       "      <td>0</td>\n",
       "      <td>0</td>\n",
       "      <td>40</td>\n",
       "      <td>United-States</td>\n",
       "      <td>&lt;=50K</td>\n",
       "    </tr>\n",
       "    <tr>\n",
       "      <th>3</th>\n",
       "      <td>53</td>\n",
       "      <td>Private</td>\n",
       "      <td>234721</td>\n",
       "      <td>11th</td>\n",
       "      <td>7</td>\n",
       "      <td>Married-civ-spouse</td>\n",
       "      <td>Handlers-cleaners</td>\n",
       "      <td>Husband</td>\n",
       "      <td>Black</td>\n",
       "      <td>Male</td>\n",
       "      <td>0</td>\n",
       "      <td>0</td>\n",
       "      <td>40</td>\n",
       "      <td>United-States</td>\n",
       "      <td>&lt;=50K</td>\n",
       "    </tr>\n",
       "    <tr>\n",
       "      <th>4</th>\n",
       "      <td>28</td>\n",
       "      <td>Private</td>\n",
       "      <td>338409</td>\n",
       "      <td>Bachelors</td>\n",
       "      <td>13</td>\n",
       "      <td>Married-civ-spouse</td>\n",
       "      <td>Prof-specialty</td>\n",
       "      <td>Wife</td>\n",
       "      <td>Black</td>\n",
       "      <td>Female</td>\n",
       "      <td>0</td>\n",
       "      <td>0</td>\n",
       "      <td>40</td>\n",
       "      <td>Cuba</td>\n",
       "      <td>&lt;=50K</td>\n",
       "    </tr>\n",
       "  </tbody>\n",
       "</table>\n",
       "</div>"
      ],
      "text/plain": [
       "   age          workclass  fnlwgt   education  education_num  \\\n",
       "0   39          State-gov   77516   Bachelors             13   \n",
       "1   50   Self-emp-not-inc   83311   Bachelors             13   \n",
       "2   38            Private  215646     HS-grad              9   \n",
       "3   53            Private  234721        11th              7   \n",
       "4   28            Private  338409   Bachelors             13   \n",
       "\n",
       "        marital_status          occupation    relationship    race      sex  \\\n",
       "0        Never-married        Adm-clerical   Not-in-family   White     Male   \n",
       "1   Married-civ-spouse     Exec-managerial         Husband   White     Male   \n",
       "2             Divorced   Handlers-cleaners   Not-in-family   White     Male   \n",
       "3   Married-civ-spouse   Handlers-cleaners         Husband   Black     Male   \n",
       "4   Married-civ-spouse      Prof-specialty            Wife   Black   Female   \n",
       "\n",
       "   capital_gain  capital_loss  hours_per_week  native_country wage_class  \n",
       "0          2174             0              40   United-States      <=50K  \n",
       "1             0             0              13   United-States      <=50K  \n",
       "2             0             0              40   United-States      <=50K  \n",
       "3             0             0              40   United-States      <=50K  \n",
       "4             0             0              40            Cuba      <=50K  "
      ]
     },
     "execution_count": 8,
     "metadata": {},
     "output_type": "execute_result"
    }
   ],
   "source": [
    "# Reading the dataset\n",
    "\n",
    "data = pd.read_csv(os.path.join('Dataset', 'adult_data.csv'))\n",
    "data.head()"
   ]
  },
  {
   "cell_type": "code",
   "execution_count": 9,
   "id": "15a60c9a",
   "metadata": {},
   "outputs": [
    {
     "name": "stdout",
     "output_type": "stream",
     "text": [
      "<class 'pandas.core.frame.DataFrame'>\n",
      "RangeIndex: 32561 entries, 0 to 32560\n",
      "Data columns (total 15 columns):\n",
      " #   Column          Non-Null Count  Dtype \n",
      "---  ------          --------------  ----- \n",
      " 0   age             32561 non-null  int64 \n",
      " 1   workclass       32561 non-null  object\n",
      " 2   fnlwgt          32561 non-null  int64 \n",
      " 3   education       32561 non-null  object\n",
      " 4   education_num   32561 non-null  int64 \n",
      " 5   marital_status  32561 non-null  object\n",
      " 6   occupation      32561 non-null  object\n",
      " 7   relationship    32561 non-null  object\n",
      " 8   race            32561 non-null  object\n",
      " 9   sex             32561 non-null  object\n",
      " 10  capital_gain    32561 non-null  int64 \n",
      " 11  capital_loss    32561 non-null  int64 \n",
      " 12  hours_per_week  32561 non-null  int64 \n",
      " 13  native_country  32561 non-null  object\n",
      " 14  wage_class      32561 non-null  object\n",
      "dtypes: int64(6), object(9)\n",
      "memory usage: 3.7+ MB\n"
     ]
    }
   ],
   "source": [
    "data.info()"
   ]
  },
  {
   "cell_type": "code",
   "execution_count": 10,
   "id": "35846124",
   "metadata": {
    "scrolled": true
   },
   "outputs": [
    {
     "data": {
      "text/html": [
       "<div>\n",
       "<style scoped>\n",
       "    .dataframe tbody tr th:only-of-type {\n",
       "        vertical-align: middle;\n",
       "    }\n",
       "\n",
       "    .dataframe tbody tr th {\n",
       "        vertical-align: top;\n",
       "    }\n",
       "\n",
       "    .dataframe thead th {\n",
       "        text-align: right;\n",
       "    }\n",
       "</style>\n",
       "<table border=\"1\" class=\"dataframe\">\n",
       "  <thead>\n",
       "    <tr style=\"text-align: right;\">\n",
       "      <th></th>\n",
       "      <th>age</th>\n",
       "      <th>fnlwgt</th>\n",
       "      <th>education_num</th>\n",
       "      <th>capital_gain</th>\n",
       "      <th>capital_loss</th>\n",
       "      <th>hours_per_week</th>\n",
       "    </tr>\n",
       "  </thead>\n",
       "  <tbody>\n",
       "    <tr>\n",
       "      <th>count</th>\n",
       "      <td>32561.000000</td>\n",
       "      <td>3.256100e+04</td>\n",
       "      <td>32561.000000</td>\n",
       "      <td>32561.000000</td>\n",
       "      <td>32561.000000</td>\n",
       "      <td>32561.000000</td>\n",
       "    </tr>\n",
       "    <tr>\n",
       "      <th>mean</th>\n",
       "      <td>38.581647</td>\n",
       "      <td>1.897784e+05</td>\n",
       "      <td>10.080679</td>\n",
       "      <td>1077.648844</td>\n",
       "      <td>87.303830</td>\n",
       "      <td>40.437456</td>\n",
       "    </tr>\n",
       "    <tr>\n",
       "      <th>std</th>\n",
       "      <td>13.640433</td>\n",
       "      <td>1.055500e+05</td>\n",
       "      <td>2.572720</td>\n",
       "      <td>7385.292085</td>\n",
       "      <td>402.960219</td>\n",
       "      <td>12.347429</td>\n",
       "    </tr>\n",
       "    <tr>\n",
       "      <th>min</th>\n",
       "      <td>17.000000</td>\n",
       "      <td>1.228500e+04</td>\n",
       "      <td>1.000000</td>\n",
       "      <td>0.000000</td>\n",
       "      <td>0.000000</td>\n",
       "      <td>1.000000</td>\n",
       "    </tr>\n",
       "    <tr>\n",
       "      <th>25%</th>\n",
       "      <td>28.000000</td>\n",
       "      <td>1.178270e+05</td>\n",
       "      <td>9.000000</td>\n",
       "      <td>0.000000</td>\n",
       "      <td>0.000000</td>\n",
       "      <td>40.000000</td>\n",
       "    </tr>\n",
       "    <tr>\n",
       "      <th>50%</th>\n",
       "      <td>37.000000</td>\n",
       "      <td>1.783560e+05</td>\n",
       "      <td>10.000000</td>\n",
       "      <td>0.000000</td>\n",
       "      <td>0.000000</td>\n",
       "      <td>40.000000</td>\n",
       "    </tr>\n",
       "    <tr>\n",
       "      <th>75%</th>\n",
       "      <td>48.000000</td>\n",
       "      <td>2.370510e+05</td>\n",
       "      <td>12.000000</td>\n",
       "      <td>0.000000</td>\n",
       "      <td>0.000000</td>\n",
       "      <td>45.000000</td>\n",
       "    </tr>\n",
       "    <tr>\n",
       "      <th>max</th>\n",
       "      <td>90.000000</td>\n",
       "      <td>1.484705e+06</td>\n",
       "      <td>16.000000</td>\n",
       "      <td>99999.000000</td>\n",
       "      <td>4356.000000</td>\n",
       "      <td>99.000000</td>\n",
       "    </tr>\n",
       "  </tbody>\n",
       "</table>\n",
       "</div>"
      ],
      "text/plain": [
       "                age        fnlwgt  education_num  capital_gain  capital_loss  \\\n",
       "count  32561.000000  3.256100e+04   32561.000000  32561.000000  32561.000000   \n",
       "mean      38.581647  1.897784e+05      10.080679   1077.648844     87.303830   \n",
       "std       13.640433  1.055500e+05       2.572720   7385.292085    402.960219   \n",
       "min       17.000000  1.228500e+04       1.000000      0.000000      0.000000   \n",
       "25%       28.000000  1.178270e+05       9.000000      0.000000      0.000000   \n",
       "50%       37.000000  1.783560e+05      10.000000      0.000000      0.000000   \n",
       "75%       48.000000  2.370510e+05      12.000000      0.000000      0.000000   \n",
       "max       90.000000  1.484705e+06      16.000000  99999.000000   4356.000000   \n",
       "\n",
       "       hours_per_week  \n",
       "count    32561.000000  \n",
       "mean        40.437456  \n",
       "std         12.347429  \n",
       "min          1.000000  \n",
       "25%         40.000000  \n",
       "50%         40.000000  \n",
       "75%         45.000000  \n",
       "max         99.000000  "
      ]
     },
     "execution_count": 10,
     "metadata": {},
     "output_type": "execute_result"
    }
   ],
   "source": [
    "data.describe()"
   ]
  },
  {
   "cell_type": "code",
   "execution_count": 11,
   "id": "7d82f5dc",
   "metadata": {},
   "outputs": [
    {
     "data": {
      "text/plain": [
       "age               0\n",
       "workclass         0\n",
       "fnlwgt            0\n",
       "education         0\n",
       "education_num     0\n",
       "marital_status    0\n",
       "occupation        0\n",
       "relationship      0\n",
       "race              0\n",
       "sex               0\n",
       "capital_gain      0\n",
       "capital_loss      0\n",
       "hours_per_week    0\n",
       "native_country    0\n",
       "wage_class        0\n",
       "dtype: int64"
      ]
     },
     "execution_count": 11,
     "metadata": {},
     "output_type": "execute_result"
    }
   ],
   "source": [
    "data.isna().sum()"
   ]
  },
  {
   "cell_type": "code",
   "execution_count": 12,
   "id": "187ffe82",
   "metadata": {},
   "outputs": [
    {
     "data": {
      "image/png": "[encoded data removed]",
      "text/plain": [
       "<Figure size 864x720 with 2 Axes>"
      ]
     },
     "metadata": {
      "needs_background": "light"
     },
     "output_type": "display_data"
    }
   ],
   "source": [
    "klib.corr_plot(data)\n",
    "plt.show()"
   ]
  },
  {
   "cell_type": "code",
   "execution_count": 9,
   "id": "0803e0fb",
   "metadata": {},
   "outputs": [
    {
     "data": {
      "text/plain": [
       " <=50K    24720\n",
       " >50K      7841\n",
       "Name: wage_class, dtype: int64"
      ]
     },
     "execution_count": 9,
     "metadata": {},
     "output_type": "execute_result"
    }
   ],
   "source": [
    "# Checking the number of target classes\n",
    "\n",
    "data['wage_class'].value_counts()"
   ]
  },
  {
   "cell_type": "code",
   "execution_count": 13,
   "id": "83068a2f",
   "metadata": {},
   "outputs": [
    {
     "data": {
      "text/plain": [
       "3.152659099604642"
      ]
     },
     "execution_count": 13,
     "metadata": {},
     "output_type": "execute_result"
    }
   ],
   "source": [
    "# Prining the ratio of the classes\n",
    "\n",
    "data['wage_class'].value_counts()[0] / data['wage_class'].value_counts()[1]"
   ]
  },
  {
   "cell_type": "markdown",
   "id": "781b6a40",
   "metadata": {},
   "source": [
    "# Preprocessing the Data"
   ]
  },
  {
   "cell_type": "code",
   "execution_count": 16,
   "id": "ccdd0fc0",
   "metadata": {},
   "outputs": [
    {
     "data": {
      "text/html": [
       "<div>\n",
       "<style scoped>\n",
       "    .dataframe tbody tr th:only-of-type {\n",
       "        vertical-align: middle;\n",
       "    }\n",
       "\n",
       "    .dataframe tbody tr th {\n",
       "        vertical-align: top;\n",
       "    }\n",
       "\n",
       "    .dataframe thead th {\n",
       "        text-align: right;\n",
       "    }\n",
       "</style>\n",
       "<table border=\"1\" class=\"dataframe\">\n",
       "  <thead>\n",
       "    <tr style=\"text-align: right;\">\n",
       "      <th></th>\n",
       "      <th>age</th>\n",
       "      <th>workclass</th>\n",
       "      <th>fnlwgt</th>\n",
       "      <th>education</th>\n",
       "      <th>education_num</th>\n",
       "      <th>marital_status</th>\n",
       "      <th>occupation</th>\n",
       "      <th>relationship</th>\n",
       "      <th>race</th>\n",
       "      <th>sex</th>\n",
       "      <th>capital_gain</th>\n",
       "      <th>capital_loss</th>\n",
       "      <th>hours_per_week</th>\n",
       "      <th>native_country</th>\n",
       "      <th>wage_class</th>\n",
       "    </tr>\n",
       "  </thead>\n",
       "  <tbody>\n",
       "    <tr>\n",
       "      <th>0</th>\n",
       "      <td>52</td>\n",
       "      <td>Self-emp-not-inc</td>\n",
       "      <td>209642</td>\n",
       "      <td>HS-grad</td>\n",
       "      <td>9</td>\n",
       "      <td>Married-civ-spouse</td>\n",
       "      <td>Exec-managerial</td>\n",
       "      <td>Husband</td>\n",
       "      <td>White</td>\n",
       "      <td>Male</td>\n",
       "      <td>0</td>\n",
       "      <td>0</td>\n",
       "      <td>45</td>\n",
       "      <td>United-States</td>\n",
       "      <td>&gt;50K</td>\n",
       "    </tr>\n",
       "    <tr>\n",
       "      <th>1</th>\n",
       "      <td>31</td>\n",
       "      <td>Private</td>\n",
       "      <td>45781</td>\n",
       "      <td>Masters</td>\n",
       "      <td>14</td>\n",
       "      <td>Never-married</td>\n",
       "      <td>Prof-specialty</td>\n",
       "      <td>Not-in-family</td>\n",
       "      <td>White</td>\n",
       "      <td>Female</td>\n",
       "      <td>14084</td>\n",
       "      <td>0</td>\n",
       "      <td>50</td>\n",
       "      <td>United-States</td>\n",
       "      <td>&gt;50K</td>\n",
       "    </tr>\n",
       "    <tr>\n",
       "      <th>2</th>\n",
       "      <td>42</td>\n",
       "      <td>Private</td>\n",
       "      <td>159449</td>\n",
       "      <td>Bachelors</td>\n",
       "      <td>13</td>\n",
       "      <td>Married-civ-spouse</td>\n",
       "      <td>Exec-managerial</td>\n",
       "      <td>Husband</td>\n",
       "      <td>White</td>\n",
       "      <td>Male</td>\n",
       "      <td>5178</td>\n",
       "      <td>0</td>\n",
       "      <td>40</td>\n",
       "      <td>United-States</td>\n",
       "      <td>&gt;50K</td>\n",
       "    </tr>\n",
       "    <tr>\n",
       "      <th>3</th>\n",
       "      <td>37</td>\n",
       "      <td>Private</td>\n",
       "      <td>280464</td>\n",
       "      <td>Some-college</td>\n",
       "      <td>10</td>\n",
       "      <td>Married-civ-spouse</td>\n",
       "      <td>Exec-managerial</td>\n",
       "      <td>Husband</td>\n",
       "      <td>Black</td>\n",
       "      <td>Male</td>\n",
       "      <td>0</td>\n",
       "      <td>0</td>\n",
       "      <td>80</td>\n",
       "      <td>United-States</td>\n",
       "      <td>&gt;50K</td>\n",
       "    </tr>\n",
       "    <tr>\n",
       "      <th>4</th>\n",
       "      <td>30</td>\n",
       "      <td>State-gov</td>\n",
       "      <td>141297</td>\n",
       "      <td>Bachelors</td>\n",
       "      <td>13</td>\n",
       "      <td>Married-civ-spouse</td>\n",
       "      <td>Prof-specialty</td>\n",
       "      <td>Husband</td>\n",
       "      <td>Asian-Pac-Islander</td>\n",
       "      <td>Male</td>\n",
       "      <td>0</td>\n",
       "      <td>0</td>\n",
       "      <td>40</td>\n",
       "      <td>India</td>\n",
       "      <td>&gt;50K</td>\n",
       "    </tr>\n",
       "  </tbody>\n",
       "</table>\n",
       "</div>"
      ],
      "text/plain": [
       "   age          workclass  fnlwgt      education  education_num  \\\n",
       "0   52   Self-emp-not-inc  209642        HS-grad              9   \n",
       "1   31            Private   45781        Masters             14   \n",
       "2   42            Private  159449      Bachelors             13   \n",
       "3   37            Private  280464   Some-college             10   \n",
       "4   30          State-gov  141297      Bachelors             13   \n",
       "\n",
       "        marital_status        occupation    relationship                 race  \\\n",
       "0   Married-civ-spouse   Exec-managerial         Husband                White   \n",
       "1        Never-married    Prof-specialty   Not-in-family                White   \n",
       "2   Married-civ-spouse   Exec-managerial         Husband                White   \n",
       "3   Married-civ-spouse   Exec-managerial         Husband                Black   \n",
       "4   Married-civ-spouse    Prof-specialty         Husband   Asian-Pac-Islander   \n",
       "\n",
       "       sex  capital_gain  capital_loss  hours_per_week  native_country  \\\n",
       "0     Male             0             0              45   United-States   \n",
       "1   Female         14084             0              50   United-States   \n",
       "2     Male          5178             0              40   United-States   \n",
       "3     Male             0             0              80   United-States   \n",
       "4     Male             0             0              40           India   \n",
       "\n",
       "  wage_class  \n",
       "0       >50K  \n",
       "1       >50K  \n",
       "2       >50K  \n",
       "3       >50K  \n",
       "4       >50K  "
      ]
     },
     "execution_count": 16,
     "metadata": {},
     "output_type": "execute_result"
    }
   ],
   "source": [
    "# Balancing the Dataset\n",
    "\n",
    "selected_dataframe = data[data['wage_class'] == ' >50K']\n",
    "new_data = pd.concat([selected_dataframe] * 3, ignore_index=True)\n",
    "\n",
    "new_data = new_data.append(data[data['wage_class'] == ' <=50K'], ignore_index=True)\n",
    "new_data.head()"
   ]
  },
  {
   "cell_type": "code",
   "execution_count": 17,
   "id": "909f3b67",
   "metadata": {},
   "outputs": [
    {
     "data": {
      "text/plain": [
       " <=50K    24720\n",
       " >50K     23523\n",
       "Name: wage_class, dtype: int64"
      ]
     },
     "execution_count": 17,
     "metadata": {},
     "output_type": "execute_result"
    }
   ],
   "source": [
    "# Checking the number of target classes\n",
    "\n",
    "new_data['wage_class'].value_counts()"
   ]
  },
  {
   "cell_type": "code",
   "execution_count": 18,
   "id": "ca651f46",
   "metadata": {},
   "outputs": [
    {
     "data": {
      "text/plain": [
       "1.0508863665348807"
      ]
     },
     "execution_count": 18,
     "metadata": {},
     "output_type": "execute_result"
    }
   ],
   "source": [
    "# Prining the ratio of the classes\n",
    "\n",
    "new_data['wage_class'].value_counts()[0] / new_data['wage_class'].value_counts()[1]"
   ]
  },
  {
   "cell_type": "code",
   "execution_count": 29,
   "id": "4e45ef95",
   "metadata": {},
   "outputs": [
    {
     "data": {
      "text/plain": [
       "Index(['age', 'fnlwgt', 'education_num', 'capital_gain', 'capital_loss',\n",
       "       'hours_per_week'],\n",
       "      dtype='object')"
      ]
     },
     "execution_count": 29,
     "metadata": {},
     "output_type": "execute_result"
    }
   ],
   "source": [
    "new_data.dtypes[new_data.dtypes == 'int64'].index"
   ]
  },
  {
   "cell_type": "code",
   "execution_count": 28,
   "id": "96e28ae1",
   "metadata": {},
   "outputs": [
    {
     "data": {
      "text/plain": [
       "Index(['workclass', 'education', 'marital_status', 'occupation',\n",
       "       'relationship', 'race', 'sex', 'native_country', 'wage_class'],\n",
       "      dtype='object')"
      ]
     },
     "execution_count": 28,
     "metadata": {},
     "output_type": "execute_result"
    }
   ],
   "source": [
    "new_data.dtypes[new_data.dtypes == 'object'].index"
   ]
  },
  {
   "cell_type": "code",
   "execution_count": 30,
   "id": "2131baa5",
   "metadata": {},
   "outputs": [],
   "source": [
    "# Dividing the numerical and categorical columns\n",
    "\n",
    "numerical_columns = ['age', 'fnlwgt', 'education_num', 'capital_gain', 'capital_loss', 'hours_per_week']\n",
    "categorical_columns = ['workclass', 'education', 'marital_status', 'occupation', 'relationship', 'race', 'sex', 'native_country']"
   ]
  },
  {
   "cell_type": "code",
   "execution_count": 35,
   "id": "00b46f30",
   "metadata": {},
   "outputs": [
    {
     "data": {
      "text/plain": [
       " <=50K    24720\n",
       " >50K     23523\n",
       "Name: wage_class, dtype: int64"
      ]
     },
     "execution_count": 35,
     "metadata": {},
     "output_type": "execute_result"
    }
   ],
   "source": [
    "new_data['wage_class'].value_counts()"
   ]
  },
  {
   "cell_type": "code",
   "execution_count": 36,
   "id": "b4622ce2",
   "metadata": {},
   "outputs": [],
   "source": [
    "# removing heading and trailing blank space and dots\n",
    "\n",
    "for i in categorical_columns:\n",
    "    new_data[i] = new_data[i].map(lambda name: name.strip())\n",
    "    \n",
    "new_data['wage_class'] = new_data['wage_class'].map(lambda name: name.strip(' ').strip('.'))"
   ]
  },
  {
   "cell_type": "code",
   "execution_count": 37,
   "id": "c0334ca7",
   "metadata": {},
   "outputs": [],
   "source": [
    "# Changing some values\n",
    "\n",
    "new_data['workclass'].replace(to_replace='?', value='Other', inplace=True)\n",
    "new_data['occupation'].replace(to_replace='?', value='Other', inplace=True)"
   ]
  },
  {
   "cell_type": "code",
   "execution_count": 38,
   "id": "d5dc22d1",
   "metadata": {},
   "outputs": [
    {
     "data": {
      "text/html": [
       "<div>\n",
       "<style scoped>\n",
       "    .dataframe tbody tr th:only-of-type {\n",
       "        vertical-align: middle;\n",
       "    }\n",
       "\n",
       "    .dataframe tbody tr th {\n",
       "        vertical-align: top;\n",
       "    }\n",
       "\n",
       "    .dataframe thead th {\n",
       "        text-align: right;\n",
       "    }\n",
       "</style>\n",
       "<table border=\"1\" class=\"dataframe\">\n",
       "  <thead>\n",
       "    <tr style=\"text-align: right;\">\n",
       "      <th></th>\n",
       "      <th>age</th>\n",
       "      <th>workclass</th>\n",
       "      <th>fnlwgt</th>\n",
       "      <th>education</th>\n",
       "      <th>education_num</th>\n",
       "      <th>marital_status</th>\n",
       "      <th>occupation</th>\n",
       "      <th>relationship</th>\n",
       "      <th>race</th>\n",
       "      <th>sex</th>\n",
       "      <th>capital_gain</th>\n",
       "      <th>capital_loss</th>\n",
       "      <th>hours_per_week</th>\n",
       "      <th>native_country</th>\n",
       "      <th>wage_class</th>\n",
       "    </tr>\n",
       "  </thead>\n",
       "  <tbody>\n",
       "    <tr>\n",
       "      <th>0</th>\n",
       "      <td>52</td>\n",
       "      <td>Self-emp-not-inc</td>\n",
       "      <td>209642</td>\n",
       "      <td>HS-grad</td>\n",
       "      <td>9</td>\n",
       "      <td>Married-civ-spouse</td>\n",
       "      <td>Exec-managerial</td>\n",
       "      <td>Husband</td>\n",
       "      <td>White</td>\n",
       "      <td>Male</td>\n",
       "      <td>0</td>\n",
       "      <td>0</td>\n",
       "      <td>45</td>\n",
       "      <td>United-States</td>\n",
       "      <td>&gt;50K</td>\n",
       "    </tr>\n",
       "    <tr>\n",
       "      <th>1</th>\n",
       "      <td>31</td>\n",
       "      <td>Private</td>\n",
       "      <td>45781</td>\n",
       "      <td>Masters</td>\n",
       "      <td>14</td>\n",
       "      <td>Never-married</td>\n",
       "      <td>Prof-specialty</td>\n",
       "      <td>Not-in-family</td>\n",
       "      <td>White</td>\n",
       "      <td>Female</td>\n",
       "      <td>14084</td>\n",
       "      <td>0</td>\n",
       "      <td>50</td>\n",
       "      <td>United-States</td>\n",
       "      <td>&gt;50K</td>\n",
       "    </tr>\n",
       "    <tr>\n",
       "      <th>2</th>\n",
       "      <td>42</td>\n",
       "      <td>Private</td>\n",
       "      <td>159449</td>\n",
       "      <td>Bachelors</td>\n",
       "      <td>13</td>\n",
       "      <td>Married-civ-spouse</td>\n",
       "      <td>Exec-managerial</td>\n",
       "      <td>Husband</td>\n",
       "      <td>White</td>\n",
       "      <td>Male</td>\n",
       "      <td>5178</td>\n",
       "      <td>0</td>\n",
       "      <td>40</td>\n",
       "      <td>United-States</td>\n",
       "      <td>&gt;50K</td>\n",
       "    </tr>\n",
       "    <tr>\n",
       "      <th>3</th>\n",
       "      <td>37</td>\n",
       "      <td>Private</td>\n",
       "      <td>280464</td>\n",
       "      <td>Some-college</td>\n",
       "      <td>10</td>\n",
       "      <td>Married-civ-spouse</td>\n",
       "      <td>Exec-managerial</td>\n",
       "      <td>Husband</td>\n",
       "      <td>Black</td>\n",
       "      <td>Male</td>\n",
       "      <td>0</td>\n",
       "      <td>0</td>\n",
       "      <td>80</td>\n",
       "      <td>United-States</td>\n",
       "      <td>&gt;50K</td>\n",
       "    </tr>\n",
       "    <tr>\n",
       "      <th>4</th>\n",
       "      <td>30</td>\n",
       "      <td>State-gov</td>\n",
       "      <td>141297</td>\n",
       "      <td>Bachelors</td>\n",
       "      <td>13</td>\n",
       "      <td>Married-civ-spouse</td>\n",
       "      <td>Prof-specialty</td>\n",
       "      <td>Husband</td>\n",
       "      <td>Asian-Pac-Islander</td>\n",
       "      <td>Male</td>\n",
       "      <td>0</td>\n",
       "      <td>0</td>\n",
       "      <td>40</td>\n",
       "      <td>India</td>\n",
       "      <td>&gt;50K</td>\n",
       "    </tr>\n",
       "  </tbody>\n",
       "</table>\n",
       "</div>"
      ],
      "text/plain": [
       "   age         workclass  fnlwgt     education  education_num  \\\n",
       "0   52  Self-emp-not-inc  209642       HS-grad              9   \n",
       "1   31           Private   45781       Masters             14   \n",
       "2   42           Private  159449     Bachelors             13   \n",
       "3   37           Private  280464  Some-college             10   \n",
       "4   30         State-gov  141297     Bachelors             13   \n",
       "\n",
       "       marital_status       occupation   relationship                race  \\\n",
       "0  Married-civ-spouse  Exec-managerial        Husband               White   \n",
       "1       Never-married   Prof-specialty  Not-in-family               White   \n",
       "2  Married-civ-spouse  Exec-managerial        Husband               White   \n",
       "3  Married-civ-spouse  Exec-managerial        Husband               Black   \n",
       "4  Married-civ-spouse   Prof-specialty        Husband  Asian-Pac-Islander   \n",
       "\n",
       "      sex  capital_gain  capital_loss  hours_per_week native_country  \\\n",
       "0    Male             0             0              45  United-States   \n",
       "1  Female         14084             0              50  United-States   \n",
       "2    Male          5178             0              40  United-States   \n",
       "3    Male             0             0              80  United-States   \n",
       "4    Male             0             0              40          India   \n",
       "\n",
       "  wage_class  \n",
       "0       >50K  \n",
       "1       >50K  \n",
       "2       >50K  \n",
       "3       >50K  \n",
       "4       >50K  "
      ]
     },
     "execution_count": 38,
     "metadata": {},
     "output_type": "execute_result"
    }
   ],
   "source": [
    "new_data.head()"
   ]
  },
  {
   "cell_type": "code",
   "execution_count": 39,
   "id": "f8c23e59",
   "metadata": {},
   "outputs": [],
   "source": [
    "# Divind the data into training data, test data and their targets respectively\n",
    "\n",
    "X_train, X_test, y_train, y_test = train_test_split(new_data.drop(labels=['wage_class'], axis=1), new_data['wage_class'], test_size=0.20, random_state=33)"
   ]
  },
  {
   "cell_type": "code",
   "execution_count": 40,
   "id": "5747c2f0",
   "metadata": {},
   "outputs": [
    {
     "data": {
      "text/html": [
       "<div>\n",
       "<style scoped>\n",
       "    .dataframe tbody tr th:only-of-type {\n",
       "        vertical-align: middle;\n",
       "    }\n",
       "\n",
       "    .dataframe tbody tr th {\n",
       "        vertical-align: top;\n",
       "    }\n",
       "\n",
       "    .dataframe thead th {\n",
       "        text-align: right;\n",
       "    }\n",
       "</style>\n",
       "<table border=\"1\" class=\"dataframe\">\n",
       "  <thead>\n",
       "    <tr style=\"text-align: right;\">\n",
       "      <th></th>\n",
       "      <th>age</th>\n",
       "      <th>workclass</th>\n",
       "      <th>fnlwgt</th>\n",
       "      <th>education</th>\n",
       "      <th>education_num</th>\n",
       "      <th>marital_status</th>\n",
       "      <th>occupation</th>\n",
       "      <th>relationship</th>\n",
       "      <th>race</th>\n",
       "      <th>sex</th>\n",
       "      <th>capital_gain</th>\n",
       "      <th>capital_loss</th>\n",
       "      <th>hours_per_week</th>\n",
       "      <th>native_country</th>\n",
       "    </tr>\n",
       "  </thead>\n",
       "  <tbody>\n",
       "    <tr>\n",
       "      <th>33032</th>\n",
       "      <td>45</td>\n",
       "      <td>Private</td>\n",
       "      <td>151627</td>\n",
       "      <td>Some-college</td>\n",
       "      <td>10</td>\n",
       "      <td>Divorced</td>\n",
       "      <td>Adm-clerical</td>\n",
       "      <td>Unmarried</td>\n",
       "      <td>White</td>\n",
       "      <td>Female</td>\n",
       "      <td>0</td>\n",
       "      <td>0</td>\n",
       "      <td>45</td>\n",
       "      <td>United-States</td>\n",
       "    </tr>\n",
       "    <tr>\n",
       "      <th>23296</th>\n",
       "      <td>52</td>\n",
       "      <td>Private</td>\n",
       "      <td>174752</td>\n",
       "      <td>HS-grad</td>\n",
       "      <td>9</td>\n",
       "      <td>Married-civ-spouse</td>\n",
       "      <td>Sales</td>\n",
       "      <td>Husband</td>\n",
       "      <td>White</td>\n",
       "      <td>Male</td>\n",
       "      <td>0</td>\n",
       "      <td>0</td>\n",
       "      <td>60</td>\n",
       "      <td>United-States</td>\n",
       "    </tr>\n",
       "    <tr>\n",
       "      <th>29571</th>\n",
       "      <td>19</td>\n",
       "      <td>Private</td>\n",
       "      <td>281704</td>\n",
       "      <td>Some-college</td>\n",
       "      <td>10</td>\n",
       "      <td>Never-married</td>\n",
       "      <td>Other-service</td>\n",
       "      <td>Not-in-family</td>\n",
       "      <td>White</td>\n",
       "      <td>Male</td>\n",
       "      <td>0</td>\n",
       "      <td>0</td>\n",
       "      <td>35</td>\n",
       "      <td>United-States</td>\n",
       "    </tr>\n",
       "    <tr>\n",
       "      <th>7854</th>\n",
       "      <td>50</td>\n",
       "      <td>Federal-gov</td>\n",
       "      <td>251585</td>\n",
       "      <td>Bachelors</td>\n",
       "      <td>13</td>\n",
       "      <td>Divorced</td>\n",
       "      <td>Exec-managerial</td>\n",
       "      <td>Not-in-family</td>\n",
       "      <td>White</td>\n",
       "      <td>Male</td>\n",
       "      <td>0</td>\n",
       "      <td>0</td>\n",
       "      <td>55</td>\n",
       "      <td>United-States</td>\n",
       "    </tr>\n",
       "    <tr>\n",
       "      <th>37854</th>\n",
       "      <td>38</td>\n",
       "      <td>Private</td>\n",
       "      <td>52963</td>\n",
       "      <td>Bachelors</td>\n",
       "      <td>13</td>\n",
       "      <td>Never-married</td>\n",
       "      <td>Adm-clerical</td>\n",
       "      <td>Not-in-family</td>\n",
       "      <td>White</td>\n",
       "      <td>Female</td>\n",
       "      <td>0</td>\n",
       "      <td>0</td>\n",
       "      <td>50</td>\n",
       "      <td>United-States</td>\n",
       "    </tr>\n",
       "  </tbody>\n",
       "</table>\n",
       "</div>"
      ],
      "text/plain": [
       "       age    workclass  fnlwgt     education  education_num  \\\n",
       "33032   45      Private  151627  Some-college             10   \n",
       "23296   52      Private  174752       HS-grad              9   \n",
       "29571   19      Private  281704  Some-college             10   \n",
       "7854    50  Federal-gov  251585     Bachelors             13   \n",
       "37854   38      Private   52963     Bachelors             13   \n",
       "\n",
       "           marital_status       occupation   relationship   race     sex  \\\n",
       "33032            Divorced     Adm-clerical      Unmarried  White  Female   \n",
       "23296  Married-civ-spouse            Sales        Husband  White    Male   \n",
       "29571       Never-married    Other-service  Not-in-family  White    Male   \n",
       "7854             Divorced  Exec-managerial  Not-in-family  White    Male   \n",
       "37854       Never-married     Adm-clerical  Not-in-family  White  Female   \n",
       "\n",
       "       capital_gain  capital_loss  hours_per_week native_country  \n",
       "33032             0             0              45  United-States  \n",
       "23296             0             0              60  United-States  \n",
       "29571             0             0              35  United-States  \n",
       "7854              0             0              55  United-States  \n",
       "37854             0             0              50  United-States  "
      ]
     },
     "execution_count": 40,
     "metadata": {},
     "output_type": "execute_result"
    }
   ],
   "source": [
    "X_train.head()"
   ]
  },
  {
   "cell_type": "code",
   "execution_count": 41,
   "id": "dc39faf3",
   "metadata": {},
   "outputs": [
    {
     "data": {
      "text/plain": [
       "33032    <=50K\n",
       "23296     >50K\n",
       "29571    <=50K\n",
       "7854      >50K\n",
       "37854    <=50K\n",
       "Name: wage_class, dtype: object"
      ]
     },
     "execution_count": 41,
     "metadata": {},
     "output_type": "execute_result"
    }
   ],
   "source": [
    "y_train.head()"
   ]
  },
  {
   "cell_type": "code",
   "execution_count": 42,
   "id": "3ada0c6e",
   "metadata": {},
   "outputs": [],
   "source": [
    "# pipelines to handle numerical and categorical data for the training data\n",
    "\n",
    "num_pipeline = Pipeline([\n",
    "    ('num_std', StandardScaler())\n",
    "])\n",
    "\n",
    "full_pipeline = ColumnTransformer([\n",
    "    ('num_pipeline', num_pipeline, numerical_columns),\n",
    "    ('cat_data', OneHotEncoder(handle_unknown='ignore'), categorical_columns)\n",
    "])\n",
    "\n",
    "# Pipeline to handle the target data\n",
    "\n",
    "target_encoder = LabelEncoder()"
   ]
  },
  {
   "cell_type": "code",
   "execution_count": 43,
   "id": "c9ccc9ce",
   "metadata": {},
   "outputs": [
    {
     "data": {
      "text/plain": [
       "array([[ 0.35374849, -0.36240877, -0.21876683, -0.1953465 , -0.25747698,\n",
       "         0.23938335,  0.        ,  0.        ,  0.        ,  0.        ,\n",
       "         1.        ,  0.        ,  0.        ,  0.        ,  0.        ,\n",
       "         0.        ,  0.        ,  0.        ,  0.        ,  0.        ,\n",
       "         0.        ,  0.        ,  0.        ,  0.        ,  0.        ,\n",
       "         0.        ,  0.        ,  0.        ,  0.        ,  0.        ,\n",
       "         1.        ,  1.        ,  0.        ,  0.        ,  0.        ,\n",
       "         0.        ,  0.        ,  0.        ,  1.        ,  0.        ,\n",
       "         0.        ,  0.        ,  0.        ,  0.        ,  0.        ,\n",
       "         0.        ,  0.        ,  0.        ,  0.        ,  0.        ,\n",
       "         0.        ,  0.        ,  0.        ,  0.        ,  0.        ,\n",
       "         0.        ,  0.        ,  1.        ,  0.        ,  0.        ,\n",
       "         0.        ,  0.        ,  0.        ,  1.        ,  1.        ,\n",
       "         0.        ,  0.        ,  0.        ,  0.        ,  0.        ,\n",
       "         0.        ,  0.        ,  0.        ,  0.        ,  0.        ,\n",
       "         0.        ,  0.        ,  0.        ,  0.        ,  0.        ,\n",
       "         0.        ,  0.        ,  0.        ,  0.        ,  0.        ,\n",
       "         0.        ,  0.        ,  0.        ,  0.        ,  0.        ,\n",
       "         0.        ,  0.        ,  0.        ,  0.        ,  0.        ,\n",
       "         0.        ,  0.        ,  0.        ,  0.        ,  0.        ,\n",
       "         0.        ,  0.        ,  0.        ,  0.        ,  0.        ,\n",
       "         1.        ,  0.        ,  0.        ],\n",
       "       [ 0.8915658 , -0.14232654, -0.6012916 , -0.1953465 , -0.25747698,\n",
       "         1.47182066,  0.        ,  0.        ,  0.        ,  0.        ,\n",
       "         1.        ,  0.        ,  0.        ,  0.        ,  0.        ,\n",
       "         0.        ,  0.        ,  0.        ,  0.        ,  0.        ,\n",
       "         0.        ,  0.        ,  0.        ,  0.        ,  0.        ,\n",
       "         0.        ,  1.        ,  0.        ,  0.        ,  0.        ,\n",
       "         0.        ,  0.        ,  0.        ,  1.        ,  0.        ,\n",
       "         0.        ,  0.        ,  0.        ,  0.        ,  0.        ,\n",
       "         0.        ,  0.        ,  0.        ,  0.        ,  0.        ,\n",
       "         0.        ,  0.        ,  0.        ,  0.        ,  0.        ,\n",
       "         1.        ,  0.        ,  0.        ,  1.        ,  0.        ,\n",
       "         0.        ,  0.        ,  0.        ,  0.        ,  0.        ,\n",
       "         0.        ,  0.        ,  0.        ,  1.        ,  0.        ,\n",
       "         1.        ,  0.        ,  0.        ,  0.        ,  0.        ,\n",
       "         0.        ,  0.        ,  0.        ,  0.        ,  0.        ,\n",
       "         0.        ,  0.        ,  0.        ,  0.        ,  0.        ,\n",
       "         0.        ,  0.        ,  0.        ,  0.        ,  0.        ,\n",
       "         0.        ,  0.        ,  0.        ,  0.        ,  0.        ,\n",
       "         0.        ,  0.        ,  0.        ,  0.        ,  0.        ,\n",
       "         0.        ,  0.        ,  0.        ,  0.        ,  0.        ,\n",
       "         0.        ,  0.        ,  0.        ,  0.        ,  0.        ,\n",
       "         1.        ,  0.        ,  0.        ],\n",
       "       [-1.64385866,  0.87554306, -0.21876683, -0.1953465 , -0.25747698,\n",
       "        -0.58224153,  0.        ,  0.        ,  0.        ,  0.        ,\n",
       "         1.        ,  0.        ,  0.        ,  0.        ,  0.        ,\n",
       "         0.        ,  0.        ,  0.        ,  0.        ,  0.        ,\n",
       "         0.        ,  0.        ,  0.        ,  0.        ,  0.        ,\n",
       "         0.        ,  0.        ,  0.        ,  0.        ,  0.        ,\n",
       "         1.        ,  0.        ,  0.        ,  0.        ,  0.        ,\n",
       "         1.        ,  0.        ,  0.        ,  0.        ,  0.        ,\n",
       "         0.        ,  0.        ,  0.        ,  0.        ,  0.        ,\n",
       "         0.        ,  1.        ,  0.        ,  0.        ,  0.        ,\n",
       "         0.        ,  0.        ,  0.        ,  0.        ,  1.        ,\n",
       "         0.        ,  0.        ,  0.        ,  0.        ,  0.        ,\n",
       "         0.        ,  0.        ,  0.        ,  1.        ,  0.        ,\n",
       "         1.        ,  0.        ,  0.        ,  0.        ,  0.        ,\n",
       "         0.        ,  0.        ,  0.        ,  0.        ,  0.        ,\n",
       "         0.        ,  0.        ,  0.        ,  0.        ,  0.        ,\n",
       "         0.        ,  0.        ,  0.        ,  0.        ,  0.        ,\n",
       "         0.        ,  0.        ,  0.        ,  0.        ,  0.        ,\n",
       "         0.        ,  0.        ,  0.        ,  0.        ,  0.        ,\n",
       "         0.        ,  0.        ,  0.        ,  0.        ,  0.        ,\n",
       "         0.        ,  0.        ,  0.        ,  0.        ,  0.        ,\n",
       "         1.        ,  0.        ,  0.        ],\n",
       "       [ 0.73790371,  0.58889845,  0.9288075 , -0.1953465 , -0.25747698,\n",
       "         1.06100822,  1.        ,  0.        ,  0.        ,  0.        ,\n",
       "         0.        ,  0.        ,  0.        ,  0.        ,  0.        ,\n",
       "         0.        ,  0.        ,  0.        ,  0.        ,  0.        ,\n",
       "         0.        ,  0.        ,  0.        ,  0.        ,  1.        ,\n",
       "         0.        ,  0.        ,  0.        ,  0.        ,  0.        ,\n",
       "         0.        ,  1.        ,  0.        ,  0.        ,  0.        ,\n",
       "         0.        ,  0.        ,  0.        ,  0.        ,  0.        ,\n",
       "         0.        ,  1.        ,  0.        ,  0.        ,  0.        ,\n",
       "         0.        ,  0.        ,  0.        ,  0.        ,  0.        ,\n",
       "         0.        ,  0.        ,  0.        ,  0.        ,  1.        ,\n",
       "         0.        ,  0.        ,  0.        ,  0.        ,  0.        ,\n",
       "         0.        ,  0.        ,  0.        ,  1.        ,  0.        ,\n",
       "         1.        ,  0.        ,  0.        ,  0.        ,  0.        ,\n",
       "         0.        ,  0.        ,  0.        ,  0.        ,  0.        ,\n",
       "         0.        ,  0.        ,  0.        ,  0.        ,  0.        ,\n",
       "         0.        ,  0.        ,  0.        ,  0.        ,  0.        ,\n",
       "         0.        ,  0.        ,  0.        ,  0.        ,  0.        ,\n",
       "         0.        ,  0.        ,  0.        ,  0.        ,  0.        ,\n",
       "         0.        ,  0.        ,  0.        ,  0.        ,  0.        ,\n",
       "         0.        ,  0.        ,  0.        ,  0.        ,  0.        ,\n",
       "         1.        ,  0.        ,  0.        ],\n",
       "       [-0.18406882, -1.3014009 ,  0.9288075 , -0.1953465 , -0.25747698,\n",
       "         0.65019579,  0.        ,  0.        ,  0.        ,  0.        ,\n",
       "         1.        ,  0.        ,  0.        ,  0.        ,  0.        ,\n",
       "         0.        ,  0.        ,  0.        ,  0.        ,  0.        ,\n",
       "         0.        ,  0.        ,  0.        ,  0.        ,  1.        ,\n",
       "         0.        ,  0.        ,  0.        ,  0.        ,  0.        ,\n",
       "         0.        ,  0.        ,  0.        ,  0.        ,  0.        ,\n",
       "         1.        ,  0.        ,  0.        ,  1.        ,  0.        ,\n",
       "         0.        ,  0.        ,  0.        ,  0.        ,  0.        ,\n",
       "         0.        ,  0.        ,  0.        ,  0.        ,  0.        ,\n",
       "         0.        ,  0.        ,  0.        ,  0.        ,  1.        ,\n",
       "         0.        ,  0.        ,  0.        ,  0.        ,  0.        ,\n",
       "         0.        ,  0.        ,  0.        ,  1.        ,  1.        ,\n",
       "         0.        ,  0.        ,  0.        ,  0.        ,  0.        ,\n",
       "         0.        ,  0.        ,  0.        ,  0.        ,  0.        ,\n",
       "         0.        ,  0.        ,  0.        ,  0.        ,  0.        ,\n",
       "         0.        ,  0.        ,  0.        ,  0.        ,  0.        ,\n",
       "         0.        ,  0.        ,  0.        ,  0.        ,  0.        ,\n",
       "         0.        ,  0.        ,  0.        ,  0.        ,  0.        ,\n",
       "         0.        ,  0.        ,  0.        ,  0.        ,  0.        ,\n",
       "         0.        ,  0.        ,  0.        ,  0.        ,  0.        ,\n",
       "         1.        ,  0.        ,  0.        ]])"
      ]
     },
     "execution_count": 43,
     "metadata": {},
     "output_type": "execute_result"
    }
   ],
   "source": [
    "prepared_data = full_pipeline.fit_transform(X_train)\n",
    "prepared_data.toarray()[0:5]"
   ]
  },
  {
   "cell_type": "code",
   "execution_count": 44,
   "id": "24d9f9c0",
   "metadata": {},
   "outputs": [
    {
     "data": {
      "text/plain": [
       "array([0, 1, 0, 1, 0])"
      ]
     },
     "execution_count": 44,
     "metadata": {},
     "output_type": "execute_result"
    }
   ],
   "source": [
    "prepared_target = target_encoder.fit_transform(y_train)\n",
    "prepared_target[:5]"
   ]
  },
  {
   "cell_type": "markdown",
   "id": "48fb3c71",
   "metadata": {},
   "source": [
    "# Creating the ML Model"
   ]
  },
  {
   "cell_type": "code",
   "execution_count": 45,
   "id": "d4242b6e",
   "metadata": {},
   "outputs": [],
   "source": [
    "# Defining the model object\n",
    "\n",
    "xgb_clf = XGBClassifier(eval_metric='logloss', use_label_encoder=False, tree_method='gpu_hist', gpu_id=0)"
   ]
  },
  {
   "cell_type": "markdown",
   "id": "cb0cc707",
   "metadata": {},
   "source": [
    "### Checking Accuracy on Training Data"
   ]
  },
  {
   "cell_type": "code",
   "execution_count": 46,
   "id": "7f6946d8",
   "metadata": {},
   "outputs": [
    {
     "name": "stderr",
     "output_type": "stream",
     "text": [
      "[Parallel(n_jobs=-1)]: Using backend LokyBackend with 16 concurrent workers.\n",
      "[Parallel(n_jobs=-1)]: Done   3 out of  10 | elapsed:   11.3s remaining:   26.6s\n",
      "[Parallel(n_jobs=-1)]: Done   7 out of  10 | elapsed:   11.5s remaining:    4.9s\n",
      "[Parallel(n_jobs=-1)]: Done  10 out of  10 | elapsed:   11.5s finished\n"
     ]
    },
    {
     "data": {
      "text/plain": [
       "array([0.86658031, 0.86891192, 0.86476684, 0.85518135, 0.87017362,\n",
       "       0.86110391, 0.85462555, 0.86291785, 0.8662866 , 0.86265872])"
      ]
     },
     "execution_count": 46,
     "metadata": {},
     "output_type": "execute_result"
    }
   ],
   "source": [
    "# Using Cross Validation to Check for the performance of the model on training data\n",
    "\n",
    "cross_val_score(estimator=xgb_clf, X=prepared_data, y=prepared_target, cv=10, n_jobs=-1, verbose=3)"
   ]
  },
  {
   "cell_type": "markdown",
   "id": "95ed4693",
   "metadata": {},
   "source": [
    "### Checking Accuracy on Splitted-Test Data"
   ]
  },
  {
   "cell_type": "code",
   "execution_count": 53,
   "id": "50a0d1c9",
   "metadata": {},
   "outputs": [],
   "source": [
    "# Preparing the Test Data\n",
    "\n",
    "prepared_test_data = full_pipeline.transform(X_test)\n",
    "prepared_test_target = target_encoder.transform(y_test)"
   ]
  },
  {
   "cell_type": "code",
   "execution_count": 54,
   "id": "9c27fc5c",
   "metadata": {},
   "outputs": [
    {
     "name": "stderr",
     "output_type": "stream",
     "text": [
      "[Parallel(n_jobs=-1)]: Using backend LokyBackend with 16 concurrent workers.\n",
      "[Parallel(n_jobs=-1)]: Done   2 out of   5 | elapsed:    5.0s remaining:    7.6s\n",
      "[Parallel(n_jobs=-1)]: Done   5 out of   5 | elapsed:    5.1s finished\n"
     ]
    },
    {
     "data": {
      "text/plain": [
       "array([0.83937824, 0.85958549, 0.85595855, 0.82953368, 0.85225505])"
      ]
     },
     "execution_count": 54,
     "metadata": {},
     "output_type": "execute_result"
    }
   ],
   "source": [
    "cross_val_score(estimator=xgb_clf, X=prepared_test_data, y=prepared_test_target, n_jobs=-1, verbose=3)"
   ]
  },
  {
   "cell_type": "markdown",
   "id": "1247c539",
   "metadata": {},
   "source": [
    "# Training the Model"
   ]
  },
  {
   "cell_type": "code",
   "execution_count": 55,
   "id": "188ac812",
   "metadata": {},
   "outputs": [
    {
     "data": {
      "text/plain": [
       "XGBClassifier(base_score=0.5, booster='gbtree', colsample_bylevel=1,\n",
       "              colsample_bynode=1, colsample_bytree=1, enable_categorical=False,\n",
       "              eval_metric='logloss', gamma=0, gpu_id=0, importance_type=None,\n",
       "              interaction_constraints='', learning_rate=0.300000012,\n",
       "              max_delta_step=0, max_depth=6, min_child_weight=1, missing=nan,\n",
       "              monotone_constraints='()', n_estimators=100, n_jobs=16,\n",
       "              num_parallel_tree=1, predictor='auto', random_state=0,\n",
       "              reg_alpha=0, reg_lambda=1, scale_pos_weight=1, subsample=1,\n",
       "              tree_method='gpu_hist', use_label_encoder=False,\n",
       "              validate_parameters=1, verbosity=None)"
      ]
     },
     "execution_count": 55,
     "metadata": {},
     "output_type": "execute_result"
    }
   ],
   "source": [
    "xgb_clf.fit(prepared_data, prepared_target)"
   ]
  },
  {
   "cell_type": "code",
   "execution_count": 56,
   "id": "e64807df",
   "metadata": {},
   "outputs": [
    {
     "data": {
      "text/plain": [
       "array([1, 1, 0, ..., 1, 1, 1])"
      ]
     },
     "execution_count": 56,
     "metadata": {},
     "output_type": "execute_result"
    }
   ],
   "source": [
    "y_pred = xgb_clf.predict(prepared_test_data)\n",
    "y_pred"
   ]
  },
  {
   "cell_type": "markdown",
   "id": "e83f00a1",
   "metadata": {},
   "source": [
    "# Checking for Metrics"
   ]
  },
  {
   "cell_type": "code",
   "execution_count": 30,
   "id": "3ea9dc3a",
   "metadata": {},
   "outputs": [
    {
     "name": "stdout",
     "output_type": "stream",
     "text": [
      "              precision    recall  f1-score   support\n",
      "\n",
      "           0       0.90      0.84      0.87      4890\n",
      "           1       0.85      0.90      0.87      4759\n",
      "\n",
      "    accuracy                           0.87      9649\n",
      "   macro avg       0.87      0.87      0.87      9649\n",
      "weighted avg       0.87      0.87      0.87      9649\n",
      "\n"
     ]
    }
   ],
   "source": [
    "# Printing the classification report\n",
    "\n",
    "print(classification_report(y_true=prepared_test_target, y_pred=y_pred))"
   ]
  },
  {
   "cell_type": "code",
   "execution_count": 31,
   "id": "92e73c29",
   "metadata": {},
   "outputs": [
    {
     "name": "stdout",
     "output_type": "stream",
     "text": [
      "[[4124  766]\n",
      " [ 476 4283]]\n"
     ]
    }
   ],
   "source": [
    "# Printing the confusion Matrix\n",
    "\n",
    "print(confusion_matrix(y_true=prepared_test_target, y_pred=y_pred))"
   ]
  },
  {
   "cell_type": "code",
   "execution_count": 32,
   "id": "0528e6d4",
   "metadata": {},
   "outputs": [
    {
     "data": {
      "text/plain": [
       "array(['>50K', '>50K', '<=50K', ..., '>50K', '>50K', '>50K'], dtype=object)"
      ]
     },
     "execution_count": 32,
     "metadata": {},
     "output_type": "execute_result"
    }
   ],
   "source": [
    "target_encoder.inverse_transform(y_pred)"
   ]
  },
  {
   "cell_type": "markdown",
   "id": "d68eb847",
   "metadata": {},
   "source": [
    "# Hyper Parameter Tuning"
   ]
  },
  {
   "cell_type": "code",
   "execution_count": 33,
   "id": "c092418c",
   "metadata": {},
   "outputs": [],
   "source": [
    "# Defining the list of Parameters\n",
    "\n",
    "param_grid = dict(n_jobs=[-1],\n",
    "                  eval_metric= ['logloss'],\n",
    "                  n_estimators = range(1,10),\n",
    "                  learning_rate = [0.001, 0.01, 0.1, 1],\n",
    "                  verbosity = [3],\n",
    "                  booster = ['gbtree', 'gblinear'],\n",
    "                  gpu_id = [0],\n",
    "                  tree_method= ['gpu_hist'],\n",
    "                  num_parallel_tree = range(1, 10),\n",
    "                  gamma = np.arange(0,10,0.1),\n",
    "                  min_child_weight = np.arange(1,10), \n",
    "                  use_label_encoder=[False])\n"
   ]
  },
  {
   "cell_type": "code",
   "execution_count": null,
   "id": "97473251",
   "metadata": {},
   "outputs": [],
   "source": [
    "# set1 = -1, logloss, 1, 0.01, 3, gbtree, 0, gpu_hist, 1, 0, 1, False\n",
    "# set2 = -1, logloss, 2, 0.01, 3, gbtree, 0, gpu_hist, 1, 0, 1, False\n",
    "# set3 = -1, logloss, 1, 0.1, 3, gbtree, 0, gpu_hist, 1, 0, 1, False\n",
    "# set4 = -1, logloss, 2, 0.1, 3, gbtree, 0, gpu_hist, 1, 0, 1, False\n",
    "# .\n",
    "# .\n",
    "# .\n",
    "# set1600 = \n",
    "\n",
    "# xgb(set1) -> \n",
    "# xgb(set2) -> \n",
    "# .\n",
    "# .\n",
    "# .\n",
    "# xgb(set1600) ->"
   ]
  },
  {
   "cell_type": "code",
   "execution_count": 34,
   "id": "133f3202",
   "metadata": {
    "scrolled": true
   },
   "outputs": [
    {
     "name": "stdout",
     "output_type": "stream",
     "text": [
      "Fitting 10 folds for each of 1600 candidates, totalling 16000 fits\n",
      "[20:22:16] DEBUG: C:/Users/Administrator/workspace/xgboost-win64_release_1.5.1/src/tree/updater_gpu_hist.cu:873: [GPU Hist]: Configure\n",
      "[20:22:16] ======== Monitor (0): SketchContainer ========\n",
      "[20:22:16] MakeCuts: 0.000696s, 1 calls @ 696us\n",
      "\n",
      "[20:22:16] Prune: 0.000411s, 1 calls @ 411us\n",
      "\n",
      "[20:22:16] ScanInput: 0.000905s, 1 calls @ 905us\n",
      "\n",
      "[20:22:16] Unique: 0.00025s, 1 calls @ 250us\n",
      "\n",
      "[20:22:16] ======== Monitor (0): Learner ========\n",
      "[20:22:16] Configure: 0s, 1 calls @ 0us\n",
      "\n",
      "[20:22:16] EvalOneIter: 1.8e-05s, 2 calls @ 18us\n",
      "\n",
      "[20:22:16] GetGradient: 0.000565s, 2 calls @ 565us\n",
      "\n",
      "[20:22:16] PredictRaw: 0.000627s, 2 calls @ 627us\n",
      "\n",
      "[20:22:16] UpdateOneIter: 0.040844s, 2 calls @ 40844us\n",
      "\n",
      "[20:22:16] ======== Monitor (0): GBTree ========\n",
      "[20:22:16] BoostNewTrees: 0.102203s, 2 calls @ 102203us\n",
      "\n",
      "[20:22:16] CommitModel: 1e-06s, 2 calls @ 1us\n",
      "\n",
      "[20:22:16] ======== Device 0 Memory Allocations:  ========\n",
      "[20:22:16] Peak memory usage: 8MiB\n",
      "[20:22:16] Number of allocations: 288\n",
      "[20:22:16] ======== Monitor (0): updater_gpu_hist ========\n",
      "[20:22:16] InitData: 0.019306s, 2 calls @ 19306us\n",
      "\n",
      "[20:22:16] InitDataOnce: 0.019306s, 1 calls @ 19306us\n",
      "\n",
      "[20:22:16] Update: 0.10192s, 2 calls @ 101920us\n",
      "\n",
      "[20:22:16] UpdatePredictionCache: 0.000257s, 2 calls @ 257us\n",
      "\n",
      "[20:22:16] ======== Monitor (0): gradient_based_sampler ========\n",
      "[20:22:16] Sample: 0s, 2 calls @ 0us\n",
      "\n",
      "[20:22:16] ======== Monitor (0): GPUHistMakerDevice0 ========\n",
      "[20:22:16] AllReduce: 1e-05s, 46 calls @ 10us\n",
      "\n",
      "[20:22:16] BuildHist: 0.003645s, 44 calls @ 3645us\n",
      "\n",
      "[20:22:16] EvaluateSplits: 0.002461s, 44 calls @ 2461us\n",
      "\n",
      "[20:22:16] FinalisePosition: 0.000419s, 2 calls @ 419us\n",
      "\n",
      "[20:22:16] InitRoot: 0.002208s, 2 calls @ 2208us\n",
      "\n",
      "[20:22:16] Reset: 0.000664s, 2 calls @ 664us\n",
      "\n",
      "[20:22:16] UpdatePosition: 0.057523s, 44 calls @ 57523us\n",
      "\n",
      "[20:22:16] ======== Monitor (0): ellpack_page ========\n",
      "[20:22:16] BinningCompression: 0.00452s, 1 calls @ 4520us\n",
      "\n",
      "[20:22:16] InitCompressedData: 6.8e-05s, 1 calls @ 68us\n",
      "\n",
      "[20:22:16] Quantiles: 0.014573s, 1 calls @ 14573us\n",
      "\n"
     ]
    },
    {
     "data": {
      "text/plain": [
       "GridSearchCV(cv=10,\n",
       "             estimator=XGBClassifier(base_score=0.5, booster='gbtree',\n",
       "                                     colsample_bylevel=1, colsample_bynode=1,\n",
       "                                     colsample_bytree=1,\n",
       "                                     enable_categorical=False,\n",
       "                                     eval_metric='logloss', gamma=0, gpu_id=0,\n",
       "                                     importance_type=None,\n",
       "                                     interaction_constraints='',\n",
       "                                     learning_rate=0.300000012,\n",
       "                                     max_delta_step=0, max_depth=6,\n",
       "                                     min_child_weight=1, missing=nan,\n",
       "                                     monotone_constraint...\n",
       "       1.3, 1.4, 1.5, 1.6, 1.7, 1.8, 1.9, 2. , 2.1, 2.2, 2.3, 2.4, 2.5,\n",
       "       2.6, 2.7, 2.8, 2.9, 3. , 3.1, 3.2, 3.3, 3.4, 3.5, 3.6, 3.7, 3.8,\n",
       "       3.9, 4. , 4.1, 4.2, 4.3, 4.4, 4.5, 4.6, 4.7, 4.8, 4.9]),\n",
       "                         'gpu_id': [0], 'learning_rate': [0.01, 0.1],\n",
       "                         'min_child_weight': array([1, 2]),\n",
       "                         'n_estimators': range(1, 3), 'n_jobs': [-1],\n",
       "                         'num_parallel_tree': range(1, 3),\n",
       "                         'tree_method': ['gpu_hist'],\n",
       "                         'use_label_encoder': [False], 'verbosity': [3]},\n",
       "             verbose=3)"
      ]
     },
     "execution_count": 34,
     "metadata": {},
     "output_type": "execute_result"
    }
   ],
   "source": [
    "# Defining the gridsearch object and finding the best model\n",
    "\n",
    "grid_search = GridSearchCV(estimator=xgb_clf, param_grid=param_grid, cv=10, n_jobs=-1, verbose=3)\n",
    "\n",
    "grid_search.fit(prepared_data, prepared_target)"
   ]
  },
  {
   "cell_type": "code",
   "execution_count": 35,
   "id": "6e852088",
   "metadata": {},
   "outputs": [
    {
     "name": "stdout",
     "output_type": "stream",
     "text": [
      "[20:22:17] DEBUG: C:/Users/Administrator/workspace/xgboost-win64_release_1.5.1/src/tree/updater_gpu_hist.cu:873: [GPU Hist]: Configure\n",
      "[20:22:17] ======== Device 0 Memory Allocations:  ========\n",
      "[20:22:17] Peak memory usage: 8MiB\n",
      "[20:22:17] Number of allocations: 288\n",
      "[20:22:17] ======== Monitor (0):  ========\n"
     ]
    },
    {
     "data": {
      "text/plain": [
       "XGBClassifier(base_score=0.5, booster='gbtree', colsample_bylevel=1,\n",
       "              colsample_bynode=1, colsample_bytree=1, enable_categorical=False,\n",
       "              eval_metric='logloss', gamma=3.2, gpu_id=0, importance_type=None,\n",
       "              interaction_constraints='', learning_rate=0.1, max_delta_step=0,\n",
       "              max_depth=6, min_child_weight=1, missing=nan,\n",
       "              monotone_constraints='()', n_estimators=2, n_jobs=-1,\n",
       "              num_parallel_tree=1, predictor='auto', random_state=0,\n",
       "              reg_alpha=0, reg_lambda=1, scale_pos_weight=1, subsample=1,\n",
       "              tree_method='gpu_hist', use_label_encoder=False,\n",
       "              validate_parameters=1, verbosity=3)"
      ]
     },
     "execution_count": 35,
     "metadata": {},
     "output_type": "execute_result"
    }
   ],
   "source": [
    "# The computed best model\n",
    "\n",
    "grid_search.best_estimator_"
   ]
  },
  {
   "cell_type": "code",
   "execution_count": 36,
   "id": "7f2fbaa6",
   "metadata": {},
   "outputs": [
    {
     "data": {
      "text/plain": [
       "{'booster': 'gbtree',\n",
       " 'eval_metric': 'logloss',\n",
       " 'gamma': 3.2,\n",
       " 'gpu_id': 0,\n",
       " 'learning_rate': 0.1,\n",
       " 'min_child_weight': 1,\n",
       " 'n_estimators': 2,\n",
       " 'n_jobs': -1,\n",
       " 'num_parallel_tree': 1,\n",
       " 'tree_method': 'gpu_hist',\n",
       " 'use_label_encoder': False,\n",
       " 'verbosity': 3}"
      ]
     },
     "execution_count": 36,
     "metadata": {},
     "output_type": "execute_result"
    }
   ],
   "source": [
    "# The best set of parameters\n",
    "\n",
    "grid_search.best_params_"
   ]
  },
  {
   "cell_type": "code",
   "execution_count": 37,
   "id": "86f1ef29",
   "metadata": {},
   "outputs": [
    {
     "data": {
      "text/plain": [
       "0.8220708873812244"
      ]
     },
     "execution_count": 37,
     "metadata": {},
     "output_type": "execute_result"
    }
   ],
   "source": [
    "# The best scores\n",
    "\n",
    "grid_search.best_score_"
   ]
  },
  {
   "cell_type": "markdown",
   "id": "c9f6f035",
   "metadata": {},
   "source": [
    "# Checking for Metrics"
   ]
  },
  {
   "cell_type": "code",
   "execution_count": 38,
   "id": "7a9b7571",
   "metadata": {
    "scrolled": true
   },
   "outputs": [
    {
     "name": "stdout",
     "output_type": "stream",
     "text": [
      "[20:22:17] DEBUG: C:/Users/Administrator/workspace/xgboost-win64_release_1.5.1/src/tree/updater_gpu_hist.cu:873: [GPU Hist]: Configure\n",
      "[20:22:17] ======== Monitor (0): SketchContainer ========\n",
      "[20:22:17] MakeCuts: 0.003552s, 1 calls @ 3552us\n",
      "\n",
      "[20:22:17] Prune: 0.003237s, 1 calls @ 3237us\n",
      "\n",
      "[20:22:17] ScanInput: 0.0009s, 1 calls @ 900us\n",
      "\n",
      "[20:22:17] Unique: 0.000249s, 1 calls @ 249us\n",
      "\n",
      "[20:22:17] ======== Monitor (0): Learner ========\n",
      "[20:22:17] Configure: 0.000499s, 1 calls @ 499us\n",
      "\n",
      "[20:22:17] EvalOneIter: 1.7e-05s, 2 calls @ 17us\n",
      "\n",
      "[20:22:17] GetGradient: 0.000627s, 2 calls @ 627us\n",
      "\n",
      "[20:22:17] PredictRaw: 0.000567s, 2 calls @ 567us\n",
      "\n",
      "[20:22:17] UpdateOneIter: 0.184737s, 2 calls @ 184737us\n",
      "\n",
      "[20:22:17] ======== Monitor (0): GBTree ========\n",
      "[20:22:17] BoostNewTrees: 0.182991s, 2 calls @ 182991us\n",
      "\n",
      "[20:22:17] CommitModel: 1e-06s, 2 calls @ 1us\n",
      "\n",
      "[20:22:17] ======== Device 0 Memory Allocations:  ========\n",
      "[20:22:17] Peak memory usage: 8MiB\n",
      "[20:22:17] Number of allocations: 576\n",
      "[20:22:17] ======== Monitor (0): updater_gpu_hist ========\n",
      "[20:22:17] InitData: 0.035255s, 2 calls @ 35255us\n",
      "\n",
      "[20:22:17] InitDataOnce: 0.035254s, 1 calls @ 35254us\n",
      "\n",
      "[20:22:17] Update: 0.182749s, 2 calls @ 182749us\n",
      "\n",
      "[20:22:17] UpdatePredictionCache: 0.000217s, 2 calls @ 217us\n",
      "\n",
      "[20:22:17] ======== Monitor (0): gradient_based_sampler ========\n",
      "[20:22:17] Sample: 0s, 2 calls @ 0us\n",
      "\n",
      "[20:22:17] ======== Monitor (0): GPUHistMakerDevice0 ========\n",
      "[20:22:17] AllReduce: 9e-06s, 46 calls @ 9us\n",
      "\n",
      "[20:22:17] BuildHist: 0.003297s, 44 calls @ 3297us\n",
      "\n",
      "[20:22:17] EvaluateSplits: 0.002894s, 44 calls @ 2894us\n",
      "\n",
      "[20:22:17] FinalisePosition: 0.0004s, 2 calls @ 400us\n",
      "\n",
      "[20:22:17] InitRoot: 0.002205s, 2 calls @ 2205us\n",
      "\n",
      "[20:22:17] Reset: 0.000854s, 2 calls @ 854us\n",
      "\n",
      "[20:22:17] UpdatePosition: 0.092252s, 44 calls @ 92252us\n",
      "\n",
      "[20:22:17] ======== Monitor (0): Learner ========\n",
      "[20:22:17] Configure: 0.000719s, 1 calls @ 719us\n",
      "\n",
      "[20:22:17] ======== Monitor (0): GBTree ========\n",
      "[20:22:17] ======== Device 0 Memory Allocations:  ========\n",
      "[20:22:17] Peak memory usage: 8MiB\n",
      "[20:22:17] Number of allocations: 576\n",
      "[20:22:17] ======== Monitor (0): updater_gpu_hist ========\n",
      "[20:22:17] ======== Monitor (0): ellpack_page ========\n",
      "[20:22:17] BinningCompression: 0.003428s, 1 calls @ 3428us\n",
      "\n",
      "[20:22:17] InitCompressedData: 8.1e-05s, 1 calls @ 81us\n",
      "\n",
      "[20:22:17] Quantiles: 0.031629s, 1 calls @ 31629us\n",
      "\n",
      "[20:22:17] DEBUG: C:/Users/Administrator/workspace/xgboost-win64_release_1.5.1/src/tree/updater_gpu_hist.cu:873: [GPU Hist]: Configure\n",
      "[20:22:17] ======== Device 0 Memory Allocations:  ========\n",
      "[20:22:17] Peak memory usage: 8MiB\n",
      "[20:22:17] Number of allocations: 576\n",
      "[20:22:17] ======== Monitor (0):  ========\n"
     ]
    }
   ],
   "source": [
    "best_model = grid_search.best_estimator_\n",
    "best_model.fit(prepared_data, prepared_target)\n",
    "y_pred = best_model.predict(prepared_test_data)"
   ]
  },
  {
   "cell_type": "code",
   "execution_count": 39,
   "id": "6677f4e0",
   "metadata": {},
   "outputs": [
    {
     "name": "stdout",
     "output_type": "stream",
     "text": [
      "              precision    recall  f1-score   support\n",
      "\n",
      "           0       0.87      0.76      0.81      4890\n",
      "           1       0.78      0.89      0.83      4759\n",
      "\n",
      "    accuracy                           0.82      9649\n",
      "   macro avg       0.83      0.82      0.82      9649\n",
      "weighted avg       0.83      0.82      0.82      9649\n",
      "\n"
     ]
    }
   ],
   "source": [
    "# Printing the classification report\n",
    "\n",
    "print(classification_report(y_true=prepared_test_target, y_pred=y_pred))"
   ]
  },
  {
   "cell_type": "code",
   "execution_count": 40,
   "id": "f47d9b00",
   "metadata": {},
   "outputs": [
    {
     "name": "stdout",
     "output_type": "stream",
     "text": [
      "[[3717 1173]\n",
      " [ 542 4217]]\n"
     ]
    }
   ],
   "source": [
    "# Printing the confusion Matrix\n",
    "\n",
    "print(confusion_matrix(y_true=prepared_test_target, y_pred=y_pred))"
   ]
  },
  {
   "cell_type": "markdown",
   "id": "63994088",
   "metadata": {},
   "source": [
    "# Saving the Models"
   ]
  },
  {
   "cell_type": "code",
   "execution_count": 59,
   "id": "d5a486d9",
   "metadata": {},
   "outputs": [],
   "source": [
    "# This function is used to generate the file name\n",
    "\n",
    "def gen_filename(file_name):\n",
    "    now=datetime.now()\n",
    "    date_time = now.strftime(\"%d-%m-%Y_%H-%M-%S\")\n",
    "    return date_time + '_' + file_name"
   ]
  },
  {
   "cell_type": "code",
   "execution_count": 42,
   "id": "41b720a0",
   "metadata": {},
   "outputs": [
    {
     "name": "stdout",
     "output_type": "stream",
     "text": [
      "Pipelines and Model Saved\n"
     ]
    }
   ],
   "source": [
    "# Saving the Pipelines\n",
    "\n",
    "joblib.dump(value=full_pipeline, filename=os.path.join('Pipelines', gen_filename('full_pipeline.pkl')))\n",
    "joblib.dump(value=target_encoder, filename=os.path.join('Pipelines', gen_filename('target_encoder.pkl')))\n",
    "\n",
    "\n",
    "# Saving the Model\n",
    "\n",
    "joblib.dump(value=grid_search.best_estimator_, filename=os.path.join('Model', gen_filename('xgb_clf.pkl')))\n",
    "\n",
    "print('Pipelines and Model Saved')"
   ]
  },
  {
   "cell_type": "markdown",
   "id": "b396aa7f",
   "metadata": {},
   "source": [
    "# Prediction on the provided test data"
   ]
  },
  {
   "cell_type": "code",
   "execution_count": 65,
   "id": "53fa42ea",
   "metadata": {},
   "outputs": [],
   "source": [
    "# loading the test data file\n",
    "\n",
    "train = pd.read_csv(os.path.join('Dataset', 'adult_test.csv')).drop('wage_class', axis = 1)\n",
    "\n",
    "test = pd.read_csv(os.path.join('Dataset', 'adult_test.csv'))[['wage_class']]"
   ]
  },
  {
   "cell_type": "code",
   "execution_count": 66,
   "id": "c57cef94",
   "metadata": {},
   "outputs": [
    {
     "data": {
      "text/html": [
       "<div>\n",
       "<style scoped>\n",
       "    .dataframe tbody tr th:only-of-type {\n",
       "        vertical-align: middle;\n",
       "    }\n",
       "\n",
       "    .dataframe tbody tr th {\n",
       "        vertical-align: top;\n",
       "    }\n",
       "\n",
       "    .dataframe thead th {\n",
       "        text-align: right;\n",
       "    }\n",
       "</style>\n",
       "<table border=\"1\" class=\"dataframe\">\n",
       "  <thead>\n",
       "    <tr style=\"text-align: right;\">\n",
       "      <th></th>\n",
       "      <th>age</th>\n",
       "      <th>workclass</th>\n",
       "      <th>fnlwgt</th>\n",
       "      <th>education</th>\n",
       "      <th>education_num</th>\n",
       "      <th>marital_status</th>\n",
       "      <th>occupation</th>\n",
       "      <th>relationship</th>\n",
       "      <th>race</th>\n",
       "      <th>sex</th>\n",
       "      <th>capital_gain</th>\n",
       "      <th>capital_loss</th>\n",
       "      <th>hours_per_week</th>\n",
       "      <th>native_country</th>\n",
       "    </tr>\n",
       "  </thead>\n",
       "  <tbody>\n",
       "    <tr>\n",
       "      <th>0</th>\n",
       "      <td>25</td>\n",
       "      <td>Private</td>\n",
       "      <td>226802</td>\n",
       "      <td>11th</td>\n",
       "      <td>7</td>\n",
       "      <td>Never-married</td>\n",
       "      <td>Machine-op-inspct</td>\n",
       "      <td>Own-child</td>\n",
       "      <td>Black</td>\n",
       "      <td>Male</td>\n",
       "      <td>0</td>\n",
       "      <td>0</td>\n",
       "      <td>40</td>\n",
       "      <td>United-States</td>\n",
       "    </tr>\n",
       "    <tr>\n",
       "      <th>1</th>\n",
       "      <td>38</td>\n",
       "      <td>Private</td>\n",
       "      <td>89814</td>\n",
       "      <td>HS-grad</td>\n",
       "      <td>9</td>\n",
       "      <td>Married-civ-spouse</td>\n",
       "      <td>Farming-fishing</td>\n",
       "      <td>Husband</td>\n",
       "      <td>White</td>\n",
       "      <td>Male</td>\n",
       "      <td>0</td>\n",
       "      <td>0</td>\n",
       "      <td>50</td>\n",
       "      <td>United-States</td>\n",
       "    </tr>\n",
       "    <tr>\n",
       "      <th>2</th>\n",
       "      <td>28</td>\n",
       "      <td>Local-gov</td>\n",
       "      <td>336951</td>\n",
       "      <td>Assoc-acdm</td>\n",
       "      <td>12</td>\n",
       "      <td>Married-civ-spouse</td>\n",
       "      <td>Protective-serv</td>\n",
       "      <td>Husband</td>\n",
       "      <td>White</td>\n",
       "      <td>Male</td>\n",
       "      <td>0</td>\n",
       "      <td>0</td>\n",
       "      <td>40</td>\n",
       "      <td>United-States</td>\n",
       "    </tr>\n",
       "    <tr>\n",
       "      <th>3</th>\n",
       "      <td>44</td>\n",
       "      <td>Private</td>\n",
       "      <td>160323</td>\n",
       "      <td>Some-college</td>\n",
       "      <td>10</td>\n",
       "      <td>Married-civ-spouse</td>\n",
       "      <td>Machine-op-inspct</td>\n",
       "      <td>Husband</td>\n",
       "      <td>Black</td>\n",
       "      <td>Male</td>\n",
       "      <td>7688</td>\n",
       "      <td>0</td>\n",
       "      <td>40</td>\n",
       "      <td>United-States</td>\n",
       "    </tr>\n",
       "    <tr>\n",
       "      <th>4</th>\n",
       "      <td>18</td>\n",
       "      <td>?</td>\n",
       "      <td>103497</td>\n",
       "      <td>Some-college</td>\n",
       "      <td>10</td>\n",
       "      <td>Never-married</td>\n",
       "      <td>?</td>\n",
       "      <td>Own-child</td>\n",
       "      <td>White</td>\n",
       "      <td>Female</td>\n",
       "      <td>0</td>\n",
       "      <td>0</td>\n",
       "      <td>30</td>\n",
       "      <td>United-States</td>\n",
       "    </tr>\n",
       "  </tbody>\n",
       "</table>\n",
       "</div>"
      ],
      "text/plain": [
       "   age   workclass  fnlwgt      education  education_num       marital_status  \\\n",
       "0   25     Private  226802           11th              7        Never-married   \n",
       "1   38     Private   89814        HS-grad              9   Married-civ-spouse   \n",
       "2   28   Local-gov  336951     Assoc-acdm             12   Married-civ-spouse   \n",
       "3   44     Private  160323   Some-college             10   Married-civ-spouse   \n",
       "4   18           ?  103497   Some-college             10        Never-married   \n",
       "\n",
       "           occupation relationship    race      sex  capital_gain  \\\n",
       "0   Machine-op-inspct    Own-child   Black     Male             0   \n",
       "1     Farming-fishing      Husband   White     Male             0   \n",
       "2     Protective-serv      Husband   White     Male             0   \n",
       "3   Machine-op-inspct      Husband   Black     Male          7688   \n",
       "4                   ?    Own-child   White   Female             0   \n",
       "\n",
       "   capital_loss  hours_per_week  native_country  \n",
       "0             0              40   United-States  \n",
       "1             0              50   United-States  \n",
       "2             0              40   United-States  \n",
       "3             0              40   United-States  \n",
       "4             0              30   United-States  "
      ]
     },
     "execution_count": 66,
     "metadata": {},
     "output_type": "execute_result"
    }
   ],
   "source": [
    "train.head()"
   ]
  },
  {
   "cell_type": "code",
   "execution_count": 67,
   "id": "da0904cc",
   "metadata": {},
   "outputs": [
    {
     "data": {
      "text/html": [
       "<div>\n",
       "<style scoped>\n",
       "    .dataframe tbody tr th:only-of-type {\n",
       "        vertical-align: middle;\n",
       "    }\n",
       "\n",
       "    .dataframe tbody tr th {\n",
       "        vertical-align: top;\n",
       "    }\n",
       "\n",
       "    .dataframe thead th {\n",
       "        text-align: right;\n",
       "    }\n",
       "</style>\n",
       "<table border=\"1\" class=\"dataframe\">\n",
       "  <thead>\n",
       "    <tr style=\"text-align: right;\">\n",
       "      <th></th>\n",
       "      <th>wage_class</th>\n",
       "    </tr>\n",
       "  </thead>\n",
       "  <tbody>\n",
       "    <tr>\n",
       "      <th>0</th>\n",
       "      <td>&lt;=50K.</td>\n",
       "    </tr>\n",
       "    <tr>\n",
       "      <th>1</th>\n",
       "      <td>&lt;=50K.</td>\n",
       "    </tr>\n",
       "    <tr>\n",
       "      <th>2</th>\n",
       "      <td>&gt;50K.</td>\n",
       "    </tr>\n",
       "    <tr>\n",
       "      <th>3</th>\n",
       "      <td>&gt;50K.</td>\n",
       "    </tr>\n",
       "    <tr>\n",
       "      <th>4</th>\n",
       "      <td>&lt;=50K.</td>\n",
       "    </tr>\n",
       "  </tbody>\n",
       "</table>\n",
       "</div>"
      ],
      "text/plain": [
       "  wage_class\n",
       "0     <=50K.\n",
       "1     <=50K.\n",
       "2      >50K.\n",
       "3      >50K.\n",
       "4     <=50K."
      ]
     },
     "execution_count": 67,
     "metadata": {},
     "output_type": "execute_result"
    }
   ],
   "source": [
    "test.head()"
   ]
  },
  {
   "cell_type": "code",
   "execution_count": 68,
   "id": "7c51be2d",
   "metadata": {},
   "outputs": [],
   "source": [
    "# preprocessing the data\n",
    "\n",
    "for i in categorical_columns:\n",
    "    train[i] = train[i].map(lambda name: name.strip())\n",
    "    \n",
    "test['wage_class'] = test['wage_class'].map(lambda name: name.strip(' ').strip('.'))"
   ]
  },
  {
   "cell_type": "code",
   "execution_count": 69,
   "id": "2f333de8",
   "metadata": {},
   "outputs": [],
   "source": [
    "# loading the transformers\n",
    "\n",
    "full_transformer = joblib.load(os.path.join('Pipelines', '02-10-2022_19-41-10_full_pipeline.pkl'))\n",
    "target_transformer = joblib.load(os.path.join('Pipelines', '02-10-2022_19-41-10_target_encoder.pkl'))"
   ]
  },
  {
   "cell_type": "code",
   "execution_count": 70,
   "id": "0f57d4be",
   "metadata": {},
   "outputs": [
    {
     "data": {
      "text/plain": [
       "array([[-1.18287239,  0.35303692, -1.36634115, ...,  1.        ,\n",
       "         0.        ,  0.        ],\n",
       "       [-0.18406882, -0.95068738, -0.6012916 , ...,  1.        ,\n",
       "         0.        ,  0.        ],\n",
       "       [-0.95237926,  1.40133259,  0.54628273, ...,  1.        ,\n",
       "         0.        ,  0.        ],\n",
       "       ...,\n",
       "       [-0.18406882,  1.76328577,  0.9288075 , ...,  1.        ,\n",
       "         0.        ,  0.        ],\n",
       "       [ 0.27691745, -1.00705698,  0.9288075 , ...,  1.        ,\n",
       "         0.        ,  0.        ],\n",
       "       [-0.41456195, -0.0719383 ,  0.9288075 , ...,  1.        ,\n",
       "         0.        ,  0.        ]])"
      ]
     },
     "execution_count": 70,
     "metadata": {},
     "output_type": "execute_result"
    }
   ],
   "source": [
    "# preparing the test data\n",
    "\n",
    "prepared_data = full_transformer.transform(train)\n",
    "prepared_data.toarray()"
   ]
  },
  {
   "cell_type": "code",
   "execution_count": 71,
   "id": "b84cbef0",
   "metadata": {},
   "outputs": [],
   "source": [
    "# preparing the test target\n",
    "\n",
    "prepared_target = target_transformer.transform(test['wage_class'])"
   ]
  },
  {
   "cell_type": "code",
   "execution_count": 72,
   "id": "c6478c92",
   "metadata": {},
   "outputs": [
    {
     "data": {
      "text/plain": [
       "array([0, 0, 1, ..., 0, 0, 1])"
      ]
     },
     "execution_count": 72,
     "metadata": {},
     "output_type": "execute_result"
    }
   ],
   "source": [
    "prepared_target"
   ]
  },
  {
   "cell_type": "code",
   "execution_count": 73,
   "id": "4063cdf4",
   "metadata": {},
   "outputs": [],
   "source": [
    "# loading the best model\n",
    "\n",
    "best_model = joblib.load(os.path.join('Model', '02-10-2022_19-41-10_xgb_clf.pkl'))"
   ]
  },
  {
   "cell_type": "code",
   "execution_count": 74,
   "id": "fef8e2e2",
   "metadata": {},
   "outputs": [
    {
     "data": {
      "text/plain": [
       "array([0, 1, 1, ..., 1, 0, 1])"
      ]
     },
     "execution_count": 74,
     "metadata": {},
     "output_type": "execute_result"
    }
   ],
   "source": [
    "# finding the predictions\n",
    "\n",
    "y_pred = best_model.predict(prepared_data)\n",
    "y_pred"
   ]
  },
  {
   "cell_type": "code",
   "execution_count": 75,
   "id": "6ae59d8d",
   "metadata": {},
   "outputs": [
    {
     "name": "stdout",
     "output_type": "stream",
     "text": [
      "              precision    recall  f1-score   support\n",
      "\n",
      "           0       0.95      0.77      0.85     12435\n",
      "           1       0.54      0.87      0.66      3846\n",
      "\n",
      "    accuracy                           0.79     16281\n",
      "   macro avg       0.74      0.82      0.76     16281\n",
      "weighted avg       0.85      0.79      0.81     16281\n",
      "\n"
     ]
    }
   ],
   "source": [
    "# Printing the classification report\n",
    "\n",
    "print(classification_report(y_true=prepared_target, y_pred=y_pred))"
   ]
  },
  {
   "cell_type": "code",
   "execution_count": 76,
   "id": "5c08a195",
   "metadata": {
    "scrolled": true
   },
   "outputs": [
    {
     "name": "stdout",
     "output_type": "stream",
     "text": [
      "[[9531 2904]\n",
      " [ 488 3358]]\n"
     ]
    }
   ],
   "source": [
    "# Printing the confusion matrix\n",
    "\n",
    "print(confusion_matrix(y_true=prepared_target, y_pred=y_pred))"
   ]
  },
  {
   "cell_type": "markdown",
   "id": "039ff05f",
   "metadata": {},
   "source": [
    "### Actual Value"
   ]
  },
  {
   "cell_type": "code",
   "execution_count": 77,
   "id": "330a2f59",
   "metadata": {},
   "outputs": [
    {
     "data": {
      "text/plain": [
       "array(['<=50K', '>50K', '>50K', ..., '>50K', '<=50K', '>50K'],\n",
       "      dtype=object)"
      ]
     },
     "execution_count": 77,
     "metadata": {},
     "output_type": "execute_result"
    }
   ],
   "source": [
    "# Finding the actual predicted value\n",
    "\n",
    "target_transformer.inverse_transform(y_pred)"
   ]
  },
  {
   "cell_type": "code",
   "execution_count": 56,
   "id": "12883213",
   "metadata": {},
   "outputs": [],
   "source": [
    "# Assigning the actual value to a dataframe\n",
    "\n",
    "train['Actual income'] = test"
   ]
  },
  {
   "cell_type": "code",
   "execution_count": 57,
   "id": "e48d04a6",
   "metadata": {},
   "outputs": [],
   "source": [
    "# Assigning the predicted value to a dataframe\n",
    "\n",
    "train['Predicted_income'] = target_transformer.inverse_transform(y_pred)"
   ]
  },
  {
   "cell_type": "code",
   "execution_count": 58,
   "id": "e7fcdc9d",
   "metadata": {},
   "outputs": [
    {
     "data": {
      "text/html": [
       "<div>\n",
       "<style scoped>\n",
       "    .dataframe tbody tr th:only-of-type {\n",
       "        vertical-align: middle;\n",
       "    }\n",
       "\n",
       "    .dataframe tbody tr th {\n",
       "        vertical-align: top;\n",
       "    }\n",
       "\n",
       "    .dataframe thead th {\n",
       "        text-align: right;\n",
       "    }\n",
       "</style>\n",
       "<table border=\"1\" class=\"dataframe\">\n",
       "  <thead>\n",
       "    <tr style=\"text-align: right;\">\n",
       "      <th></th>\n",
       "      <th>age</th>\n",
       "      <th>workclass</th>\n",
       "      <th>fnlwgt</th>\n",
       "      <th>education</th>\n",
       "      <th>education_num</th>\n",
       "      <th>marital_status</th>\n",
       "      <th>occupation</th>\n",
       "      <th>relationship</th>\n",
       "      <th>race</th>\n",
       "      <th>sex</th>\n",
       "      <th>capital_gain</th>\n",
       "      <th>capital_loss</th>\n",
       "      <th>hours_per_week</th>\n",
       "      <th>native_country</th>\n",
       "      <th>Actual income</th>\n",
       "      <th>Predicted_income</th>\n",
       "    </tr>\n",
       "  </thead>\n",
       "  <tbody>\n",
       "    <tr>\n",
       "      <th>0</th>\n",
       "      <td>25</td>\n",
       "      <td>Private</td>\n",
       "      <td>226802</td>\n",
       "      <td>11th</td>\n",
       "      <td>7</td>\n",
       "      <td>Never-married</td>\n",
       "      <td>Machine-op-inspct</td>\n",
       "      <td>Own-child</td>\n",
       "      <td>Black</td>\n",
       "      <td>Male</td>\n",
       "      <td>0</td>\n",
       "      <td>0</td>\n",
       "      <td>40</td>\n",
       "      <td>United-States</td>\n",
       "      <td>&lt;=50K</td>\n",
       "      <td>&lt;=50K</td>\n",
       "    </tr>\n",
       "    <tr>\n",
       "      <th>1</th>\n",
       "      <td>38</td>\n",
       "      <td>Private</td>\n",
       "      <td>89814</td>\n",
       "      <td>HS-grad</td>\n",
       "      <td>9</td>\n",
       "      <td>Married-civ-spouse</td>\n",
       "      <td>Farming-fishing</td>\n",
       "      <td>Husband</td>\n",
       "      <td>White</td>\n",
       "      <td>Male</td>\n",
       "      <td>0</td>\n",
       "      <td>0</td>\n",
       "      <td>50</td>\n",
       "      <td>United-States</td>\n",
       "      <td>&lt;=50K</td>\n",
       "      <td>&gt;50K</td>\n",
       "    </tr>\n",
       "    <tr>\n",
       "      <th>2</th>\n",
       "      <td>28</td>\n",
       "      <td>Local-gov</td>\n",
       "      <td>336951</td>\n",
       "      <td>Assoc-acdm</td>\n",
       "      <td>12</td>\n",
       "      <td>Married-civ-spouse</td>\n",
       "      <td>Protective-serv</td>\n",
       "      <td>Husband</td>\n",
       "      <td>White</td>\n",
       "      <td>Male</td>\n",
       "      <td>0</td>\n",
       "      <td>0</td>\n",
       "      <td>40</td>\n",
       "      <td>United-States</td>\n",
       "      <td>&gt;50K</td>\n",
       "      <td>&gt;50K</td>\n",
       "    </tr>\n",
       "    <tr>\n",
       "      <th>3</th>\n",
       "      <td>44</td>\n",
       "      <td>Private</td>\n",
       "      <td>160323</td>\n",
       "      <td>Some-college</td>\n",
       "      <td>10</td>\n",
       "      <td>Married-civ-spouse</td>\n",
       "      <td>Machine-op-inspct</td>\n",
       "      <td>Husband</td>\n",
       "      <td>Black</td>\n",
       "      <td>Male</td>\n",
       "      <td>7688</td>\n",
       "      <td>0</td>\n",
       "      <td>40</td>\n",
       "      <td>United-States</td>\n",
       "      <td>&gt;50K</td>\n",
       "      <td>&gt;50K</td>\n",
       "    </tr>\n",
       "    <tr>\n",
       "      <th>4</th>\n",
       "      <td>18</td>\n",
       "      <td>?</td>\n",
       "      <td>103497</td>\n",
       "      <td>Some-college</td>\n",
       "      <td>10</td>\n",
       "      <td>Never-married</td>\n",
       "      <td>?</td>\n",
       "      <td>Own-child</td>\n",
       "      <td>White</td>\n",
       "      <td>Female</td>\n",
       "      <td>0</td>\n",
       "      <td>0</td>\n",
       "      <td>30</td>\n",
       "      <td>United-States</td>\n",
       "      <td>&lt;=50K</td>\n",
       "      <td>&lt;=50K</td>\n",
       "    </tr>\n",
       "    <tr>\n",
       "      <th>...</th>\n",
       "      <td>...</td>\n",
       "      <td>...</td>\n",
       "      <td>...</td>\n",
       "      <td>...</td>\n",
       "      <td>...</td>\n",
       "      <td>...</td>\n",
       "      <td>...</td>\n",
       "      <td>...</td>\n",
       "      <td>...</td>\n",
       "      <td>...</td>\n",
       "      <td>...</td>\n",
       "      <td>...</td>\n",
       "      <td>...</td>\n",
       "      <td>...</td>\n",
       "      <td>...</td>\n",
       "      <td>...</td>\n",
       "    </tr>\n",
       "    <tr>\n",
       "      <th>16276</th>\n",
       "      <td>39</td>\n",
       "      <td>Private</td>\n",
       "      <td>215419</td>\n",
       "      <td>Bachelors</td>\n",
       "      <td>13</td>\n",
       "      <td>Divorced</td>\n",
       "      <td>Prof-specialty</td>\n",
       "      <td>Not-in-family</td>\n",
       "      <td>White</td>\n",
       "      <td>Female</td>\n",
       "      <td>0</td>\n",
       "      <td>0</td>\n",
       "      <td>36</td>\n",
       "      <td>United-States</td>\n",
       "      <td>&lt;=50K</td>\n",
       "      <td>&lt;=50K</td>\n",
       "    </tr>\n",
       "    <tr>\n",
       "      <th>16277</th>\n",
       "      <td>64</td>\n",
       "      <td>?</td>\n",
       "      <td>321403</td>\n",
       "      <td>HS-grad</td>\n",
       "      <td>9</td>\n",
       "      <td>Widowed</td>\n",
       "      <td>?</td>\n",
       "      <td>Other-relative</td>\n",
       "      <td>Black</td>\n",
       "      <td>Male</td>\n",
       "      <td>0</td>\n",
       "      <td>0</td>\n",
       "      <td>40</td>\n",
       "      <td>United-States</td>\n",
       "      <td>&lt;=50K</td>\n",
       "      <td>&lt;=50K</td>\n",
       "    </tr>\n",
       "    <tr>\n",
       "      <th>16278</th>\n",
       "      <td>38</td>\n",
       "      <td>Private</td>\n",
       "      <td>374983</td>\n",
       "      <td>Bachelors</td>\n",
       "      <td>13</td>\n",
       "      <td>Married-civ-spouse</td>\n",
       "      <td>Prof-specialty</td>\n",
       "      <td>Husband</td>\n",
       "      <td>White</td>\n",
       "      <td>Male</td>\n",
       "      <td>0</td>\n",
       "      <td>0</td>\n",
       "      <td>50</td>\n",
       "      <td>United-States</td>\n",
       "      <td>&lt;=50K</td>\n",
       "      <td>&gt;50K</td>\n",
       "    </tr>\n",
       "    <tr>\n",
       "      <th>16279</th>\n",
       "      <td>44</td>\n",
       "      <td>Private</td>\n",
       "      <td>83891</td>\n",
       "      <td>Bachelors</td>\n",
       "      <td>13</td>\n",
       "      <td>Divorced</td>\n",
       "      <td>Adm-clerical</td>\n",
       "      <td>Own-child</td>\n",
       "      <td>Asian-Pac-Islander</td>\n",
       "      <td>Male</td>\n",
       "      <td>5455</td>\n",
       "      <td>0</td>\n",
       "      <td>40</td>\n",
       "      <td>United-States</td>\n",
       "      <td>&lt;=50K</td>\n",
       "      <td>&lt;=50K</td>\n",
       "    </tr>\n",
       "    <tr>\n",
       "      <th>16280</th>\n",
       "      <td>35</td>\n",
       "      <td>Self-emp-inc</td>\n",
       "      <td>182148</td>\n",
       "      <td>Bachelors</td>\n",
       "      <td>13</td>\n",
       "      <td>Married-civ-spouse</td>\n",
       "      <td>Exec-managerial</td>\n",
       "      <td>Husband</td>\n",
       "      <td>White</td>\n",
       "      <td>Male</td>\n",
       "      <td>0</td>\n",
       "      <td>0</td>\n",
       "      <td>60</td>\n",
       "      <td>United-States</td>\n",
       "      <td>&gt;50K</td>\n",
       "      <td>&gt;50K</td>\n",
       "    </tr>\n",
       "  </tbody>\n",
       "</table>\n",
       "<p>16281 rows × 16 columns</p>\n",
       "</div>"
      ],
      "text/plain": [
       "       age     workclass  fnlwgt     education  education_num  \\\n",
       "0       25       Private  226802          11th              7   \n",
       "1       38       Private   89814       HS-grad              9   \n",
       "2       28     Local-gov  336951    Assoc-acdm             12   \n",
       "3       44       Private  160323  Some-college             10   \n",
       "4       18             ?  103497  Some-college             10   \n",
       "...    ...           ...     ...           ...            ...   \n",
       "16276   39       Private  215419     Bachelors             13   \n",
       "16277   64             ?  321403       HS-grad              9   \n",
       "16278   38       Private  374983     Bachelors             13   \n",
       "16279   44       Private   83891     Bachelors             13   \n",
       "16280   35  Self-emp-inc  182148     Bachelors             13   \n",
       "\n",
       "           marital_status         occupation    relationship  \\\n",
       "0           Never-married  Machine-op-inspct       Own-child   \n",
       "1      Married-civ-spouse    Farming-fishing         Husband   \n",
       "2      Married-civ-spouse    Protective-serv         Husband   \n",
       "3      Married-civ-spouse  Machine-op-inspct         Husband   \n",
       "4           Never-married                  ?       Own-child   \n",
       "...                   ...                ...             ...   \n",
       "16276            Divorced     Prof-specialty   Not-in-family   \n",
       "16277             Widowed                  ?  Other-relative   \n",
       "16278  Married-civ-spouse     Prof-specialty         Husband   \n",
       "16279            Divorced       Adm-clerical       Own-child   \n",
       "16280  Married-civ-spouse    Exec-managerial         Husband   \n",
       "\n",
       "                     race     sex  capital_gain  capital_loss  hours_per_week  \\\n",
       "0                   Black    Male             0             0              40   \n",
       "1                   White    Male             0             0              50   \n",
       "2                   White    Male             0             0              40   \n",
       "3                   Black    Male          7688             0              40   \n",
       "4                   White  Female             0             0              30   \n",
       "...                   ...     ...           ...           ...             ...   \n",
       "16276               White  Female             0             0              36   \n",
       "16277               Black    Male             0             0              40   \n",
       "16278               White    Male             0             0              50   \n",
       "16279  Asian-Pac-Islander    Male          5455             0              40   \n",
       "16280               White    Male             0             0              60   \n",
       "\n",
       "      native_country Actual income Predicted_income  \n",
       "0      United-States         <=50K            <=50K  \n",
       "1      United-States         <=50K             >50K  \n",
       "2      United-States          >50K             >50K  \n",
       "3      United-States          >50K             >50K  \n",
       "4      United-States         <=50K            <=50K  \n",
       "...              ...           ...              ...  \n",
       "16276  United-States         <=50K            <=50K  \n",
       "16277  United-States         <=50K            <=50K  \n",
       "16278  United-States         <=50K             >50K  \n",
       "16279  United-States         <=50K            <=50K  \n",
       "16280  United-States          >50K             >50K  \n",
       "\n",
       "[16281 rows x 16 columns]"
      ]
     },
     "execution_count": 58,
     "metadata": {},
     "output_type": "execute_result"
    }
   ],
   "source": [
    "train"
   ]
  }
 ],
 "metadata": {
  "kernelspec": {
   "display_name": "Python 3 (ipykernel)",
   "language": "python",
   "name": "python3"
  },
  "language_info": {
   "codemirror_mode": {
    "name": "ipython",
    "version": 3
   },
   "file_extension": ".py",
   "mimetype": "text/x-python",
   "name": "python",
   "nbconvert_exporter": "python",
   "pygments_lexer": "ipython3",
   "version": "3.9.7"
  }
 },
 "nbformat": 4,
 "nbformat_minor": 5
}
